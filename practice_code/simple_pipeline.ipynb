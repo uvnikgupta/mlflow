{
 "cells": [
  {
   "cell_type": "code",
   "execution_count": 4,
   "source": [
    "from sys import version_info\r\n",
    "import os\r\n",
    "import tarfile\r\n",
    "import pandas as pd\r\n",
    "import numpy as np\r\n",
    "import joblib\r\n",
    "from sklearn.metrics import mean_squared_error\r\n",
    "from sklearn.model_selection import train_test_split\r\n",
    "from sklearn.preprocessing import StandardScaler, OneHotEncoder\r\n",
    "from sklearn.impute import SimpleImputer\r\n",
    "from sklearn.linear_model import LinearRegression\r\n",
    "from sklearn.pipeline import Pipeline\r\n",
    "from sklearn.compose import ColumnTransformer\r\n",
    "import mlflow\r\n",
    "import warnings\r\n",
    "\r\n",
    "warnings.filterwarnings(\"ignore\")\r\n",
    "\r\n",
    "HOUSING_PATH = os.path.join(\"../../dataset\")\r\n",
    "PYTHON_VERSION = \"{major}.{minor}.{micro}\".format(major=version_info.major,\r\n",
    "                                                  minor=version_info.minor,\r\n",
    "                                                  micro=version_info.micro)\r\n",
    "\r\n",
    "pipeline_path = \"pipe.pkl\"\r\n",
    "model_path = \"model.pkl\""
   ],
   "outputs": [],
   "metadata": {}
  },
  {
   "cell_type": "code",
   "execution_count": 5,
   "source": [
    "backend_uri = os.environ['MLFLOW_TRACKING_URI']\r\n",
    "artifact_uri = os.environ['MLFLOW_ARTIFACT_STORE']\r\n",
    "mlflow.set_tracking_uri(backend_uri)"
   ],
   "outputs": [],
   "metadata": {}
  },
  {
   "cell_type": "code",
   "execution_count": 6,
   "source": [
    "def fetch_housing_data(housing_path=HOUSING_PATH):\r\n",
    "    tgz_path = os.path.join(housing_path, \"housing.tgz\")\r\n",
    "    housing_tgz = tarfile.open(tgz_path)\r\n",
    "    housing_tgz.extractall(path=housing_path)\r\n",
    "    housing_tgz.close()\r\n",
    "    csv_path = os.path.join(housing_path, \"housing.csv\")\r\n",
    "    df = pd.read_csv(csv_path)\r\n",
    "    return df\r\n",
    "\r\n",
    "housing = fetch_housing_data()"
   ],
   "outputs": [],
   "metadata": {}
  },
  {
   "cell_type": "code",
   "execution_count": 7,
   "source": [
    "housing.head()"
   ],
   "outputs": [
    {
     "output_type": "execute_result",
     "data": {
      "text/plain": [
       "   longitude  latitude  housing_median_age  total_rooms  total_bedrooms  \\\n",
       "0    -122.23     37.88                41.0        880.0           129.0   \n",
       "1    -122.22     37.86                21.0       7099.0          1106.0   \n",
       "2    -122.24     37.85                52.0       1467.0           190.0   \n",
       "3    -122.25     37.85                52.0       1274.0           235.0   \n",
       "4    -122.25     37.85                52.0       1627.0           280.0   \n",
       "\n",
       "   population  households  median_income  median_house_value ocean_proximity  \n",
       "0       322.0       126.0         8.3252            452600.0        NEAR BAY  \n",
       "1      2401.0      1138.0         8.3014            358500.0        NEAR BAY  \n",
       "2       496.0       177.0         7.2574            352100.0        NEAR BAY  \n",
       "3       558.0       219.0         5.6431            341300.0        NEAR BAY  \n",
       "4       565.0       259.0         3.8462            342200.0        NEAR BAY  "
      ],
      "text/html": [
       "<div>\n",
       "<style scoped>\n",
       "    .dataframe tbody tr th:only-of-type {\n",
       "        vertical-align: middle;\n",
       "    }\n",
       "\n",
       "    .dataframe tbody tr th {\n",
       "        vertical-align: top;\n",
       "    }\n",
       "\n",
       "    .dataframe thead th {\n",
       "        text-align: right;\n",
       "    }\n",
       "</style>\n",
       "<table border=\"1\" class=\"dataframe\">\n",
       "  <thead>\n",
       "    <tr style=\"text-align: right;\">\n",
       "      <th></th>\n",
       "      <th>longitude</th>\n",
       "      <th>latitude</th>\n",
       "      <th>housing_median_age</th>\n",
       "      <th>total_rooms</th>\n",
       "      <th>total_bedrooms</th>\n",
       "      <th>population</th>\n",
       "      <th>households</th>\n",
       "      <th>median_income</th>\n",
       "      <th>median_house_value</th>\n",
       "      <th>ocean_proximity</th>\n",
       "    </tr>\n",
       "  </thead>\n",
       "  <tbody>\n",
       "    <tr>\n",
       "      <th>0</th>\n",
       "      <td>-122.23</td>\n",
       "      <td>37.88</td>\n",
       "      <td>41.0</td>\n",
       "      <td>880.0</td>\n",
       "      <td>129.0</td>\n",
       "      <td>322.0</td>\n",
       "      <td>126.0</td>\n",
       "      <td>8.3252</td>\n",
       "      <td>452600.0</td>\n",
       "      <td>NEAR BAY</td>\n",
       "    </tr>\n",
       "    <tr>\n",
       "      <th>1</th>\n",
       "      <td>-122.22</td>\n",
       "      <td>37.86</td>\n",
       "      <td>21.0</td>\n",
       "      <td>7099.0</td>\n",
       "      <td>1106.0</td>\n",
       "      <td>2401.0</td>\n",
       "      <td>1138.0</td>\n",
       "      <td>8.3014</td>\n",
       "      <td>358500.0</td>\n",
       "      <td>NEAR BAY</td>\n",
       "    </tr>\n",
       "    <tr>\n",
       "      <th>2</th>\n",
       "      <td>-122.24</td>\n",
       "      <td>37.85</td>\n",
       "      <td>52.0</td>\n",
       "      <td>1467.0</td>\n",
       "      <td>190.0</td>\n",
       "      <td>496.0</td>\n",
       "      <td>177.0</td>\n",
       "      <td>7.2574</td>\n",
       "      <td>352100.0</td>\n",
       "      <td>NEAR BAY</td>\n",
       "    </tr>\n",
       "    <tr>\n",
       "      <th>3</th>\n",
       "      <td>-122.25</td>\n",
       "      <td>37.85</td>\n",
       "      <td>52.0</td>\n",
       "      <td>1274.0</td>\n",
       "      <td>235.0</td>\n",
       "      <td>558.0</td>\n",
       "      <td>219.0</td>\n",
       "      <td>5.6431</td>\n",
       "      <td>341300.0</td>\n",
       "      <td>NEAR BAY</td>\n",
       "    </tr>\n",
       "    <tr>\n",
       "      <th>4</th>\n",
       "      <td>-122.25</td>\n",
       "      <td>37.85</td>\n",
       "      <td>52.0</td>\n",
       "      <td>1627.0</td>\n",
       "      <td>280.0</td>\n",
       "      <td>565.0</td>\n",
       "      <td>259.0</td>\n",
       "      <td>3.8462</td>\n",
       "      <td>342200.0</td>\n",
       "      <td>NEAR BAY</td>\n",
       "    </tr>\n",
       "  </tbody>\n",
       "</table>\n",
       "</div>"
      ]
     },
     "metadata": {},
     "execution_count": 7
    }
   ],
   "metadata": {
    "scrolled": true
   }
  },
  {
   "cell_type": "markdown",
   "source": [
    "### Create pipeline"
   ],
   "metadata": {}
  },
  {
   "cell_type": "code",
   "execution_count": 8,
   "source": [
    "targetCol = \"median_house_value\"\r\n",
    "catCols = [\"ocean_proximity\"]\r\n",
    "numCols = [\"housing_median_age\", \"total_rooms\", \"total_bedrooms\", \"population\", \"households\", \"median_income\"]\r\n",
    "\r\n",
    "num_pipeline = Pipeline([\r\n",
    "                    (\"Imputer\", SimpleImputer()),\r\n",
    "                    (\"Scaler\", StandardScaler())\r\n",
    "                ])\r\n",
    "\r\n",
    "full_pipeline = ColumnTransformer([\r\n",
    "                    (\"Numerical_Pipeline\", num_pipeline, numCols),\r\n",
    "                    (\"OneHot\", OneHotEncoder(), catCols)\r\n",
    "                ])"
   ],
   "outputs": [],
   "metadata": {}
  },
  {
   "cell_type": "markdown",
   "source": [
    "### Data processing"
   ],
   "metadata": {}
  },
  {
   "cell_type": "code",
   "execution_count": 9,
   "source": [
    "x = housing[numCols + catCols]\r\n",
    "y = housing[targetCol]\r\n",
    "\r\n",
    "x_train, x_test, y_train, y_test = train_test_split(x, y, test_size=0.2, random_state=42, shuffle=True)\r\n",
    "x_train = full_pipeline.fit_transform(x_train)\r\n",
    "x_test = full_pipeline.transform(x_test)"
   ],
   "outputs": [],
   "metadata": {}
  },
  {
   "cell_type": "markdown",
   "source": [
    "### Build Model"
   ],
   "metadata": {}
  },
  {
   "cell_type": "code",
   "execution_count": 10,
   "source": [
    "model = LinearRegression()\r\n",
    "model.fit(x_train, y_train)\r\n",
    "predictions = model.predict(x_test)\r\n",
    "rmse = np.sqrt(mean_squared_error(y_test, predictions))"
   ],
   "outputs": [],
   "metadata": {}
  },
  {
   "cell_type": "markdown",
   "source": [
    "### Save the pipeline and the model"
   ],
   "metadata": {}
  },
  {
   "cell_type": "code",
   "execution_count": 11,
   "source": [
    "joblib.dump(model, model_path)\r\n",
    "joblib.dump(full_pipeline, pipeline_path);"
   ],
   "outputs": [],
   "metadata": {}
  },
  {
   "cell_type": "code",
   "execution_count": 12,
   "source": [
    "# Create an `artifacts` dictionary that assigns a unique name to the saved pipeline and the model\r\n",
    "# This dictionary will be passed to `mlflow.pyfunc.save_model`, which will copy the model file\r\n",
    "# into the new MLflow Model's directory.\r\n",
    "artifacts = {\r\n",
    "    \"pipeline\": pipeline_path,\r\n",
    "    \"model\": model_path\r\n",
    "}\r\n",
    "\r\n",
    "# Define the model class\r\n",
    "class ModelWrapper(mlflow.pyfunc.PythonModel):\r\n",
    "    def load_context(self, context):\r\n",
    "        self.pipeline = joblib.load(context.artifacts[\"pipeline\"])\r\n",
    "        self.model = joblib.load(context.artifacts[\"model\"])\r\n",
    "\r\n",
    "    def predict(self, context, model_input):\r\n",
    "        input_matrix = self.pipeline.transform(model_input)\r\n",
    "        return self.model.predict(input_matrix)"
   ],
   "outputs": [],
   "metadata": {}
  },
  {
   "cell_type": "code",
   "execution_count": 13,
   "source": [
    "# Create a Conda environment for the new MLflow Model that contains all necessary dependencies.\r\n",
    "import cloudpickle\r\n",
    "import sklearn\r\n",
    "conda_env = {\r\n",
    "    'channels': ['defaults'],\r\n",
    "    'dependencies': [\r\n",
    "      'python={}'.format(PYTHON_VERSION),\r\n",
    "      'pip',\r\n",
    "      {\r\n",
    "        'pip': [\r\n",
    "          'mlflow',\r\n",
    "          'scikit-learn=={}'.format(sklearn.__version__),\r\n",
    "          'joblib=={}'.format(joblib.__version__),\r\n",
    "          'cloudpickle=={}'.format(cloudpickle.__version__),\r\n",
    "        ],\r\n",
    "      },\r\n",
    "    ],\r\n",
    "    'name': 'model_env'\r\n",
    "}"
   ],
   "outputs": [
    {
     "output_type": "error",
     "ename": "NameError",
     "evalue": "name 'sklearn' is not defined",
     "traceback": [
      "\u001b[1;31m---------------------------------------------------------------------------\u001b[0m",
      "\u001b[1;31mNameError\u001b[0m                                 Traceback (most recent call last)",
      "\u001b[1;32m<ipython-input-13-8f0fa72e9ccf>\u001b[0m in \u001b[0;36m<module>\u001b[1;34m\u001b[0m\n\u001b[0;32m      9\u001b[0m         'pip': [\n\u001b[0;32m     10\u001b[0m           \u001b[1;34m'mlflow'\u001b[0m\u001b[1;33m,\u001b[0m\u001b[1;33m\u001b[0m\u001b[1;33m\u001b[0m\u001b[0m\n\u001b[1;32m---> 11\u001b[1;33m           \u001b[1;34m'scikit-learn=={}'\u001b[0m\u001b[1;33m.\u001b[0m\u001b[0mformat\u001b[0m\u001b[1;33m(\u001b[0m\u001b[0msklearn\u001b[0m\u001b[1;33m.\u001b[0m\u001b[0m__version__\u001b[0m\u001b[1;33m)\u001b[0m\u001b[1;33m,\u001b[0m\u001b[1;33m\u001b[0m\u001b[1;33m\u001b[0m\u001b[0m\n\u001b[0m\u001b[0;32m     12\u001b[0m           \u001b[1;34m'joblib=={}'\u001b[0m\u001b[1;33m.\u001b[0m\u001b[0mformat\u001b[0m\u001b[1;33m(\u001b[0m\u001b[0mjoblib\u001b[0m\u001b[1;33m.\u001b[0m\u001b[0m__version__\u001b[0m\u001b[1;33m)\u001b[0m\u001b[1;33m,\u001b[0m\u001b[1;33m\u001b[0m\u001b[1;33m\u001b[0m\u001b[0m\n\u001b[0;32m     13\u001b[0m           \u001b[1;34m'cloudpickle=={}'\u001b[0m\u001b[1;33m.\u001b[0m\u001b[0mformat\u001b[0m\u001b[1;33m(\u001b[0m\u001b[0mcloudpickle\u001b[0m\u001b[1;33m.\u001b[0m\u001b[0m__version__\u001b[0m\u001b[1;33m)\u001b[0m\u001b[1;33m,\u001b[0m\u001b[1;33m\u001b[0m\u001b[1;33m\u001b[0m\u001b[0m\n",
      "\u001b[1;31mNameError\u001b[0m: name 'sklearn' is not defined"
     ]
    }
   ],
   "metadata": {}
  },
  {
   "cell_type": "code",
   "execution_count": null,
   "source": [
    "mlflow_pyfunc_model_path = \"mlflow_simple_pipeline\""
   ],
   "outputs": [],
   "metadata": {}
  },
  {
   "cell_type": "code",
   "execution_count": null,
   "source": [
    "experiment = mlflow.get_experiment_by_name(\"simple_pipeline\")\r\n",
    "if experiment is None:\r\n",
    "    experiment_id = mlflow.create_experiment(\"simple_pipeline\", artifact_location=artifact_uri)\r\n",
    "    experiment = mlflow.get_experiment(experiment_id)\r\n",
    "\r\n",
    "mlflow.set_experiment(experiment.name)\r\n",
    "\r\n",
    "with mlflow.start_run():\r\n",
    "    mlflow.log_metric(\"rmse\", rmse)\r\n",
    "    mlflow.pyfunc.log_model(mlflow_pyfunc_model_path, \r\n",
    "                            python_model=ModelWrapper(), \r\n",
    "                            artifacts=artifacts,\r\n",
    "                            conda_env=conda_env)\r\n",
    "    mlflow."
   ],
   "outputs": [
    {
     "output_type": "stream",
     "name": "stderr",
     "text": [
      "2021/07/02 14:52:22 WARNING mlflow.tracking.context.git_context: Failed to import Git (the Git executable is probably not on your PATH), so Git SHA is not available. Error: Failed to initialize: Bad git executable.\n",
      "The git executable must be specified in one of the following ways:\n",
      "    - be included in your $PATH\n",
      "    - be set via $GIT_PYTHON_GIT_EXECUTABLE\n",
      "    - explicitly set via git.refresh()\n",
      "\n",
      "All git commands will error until this is rectified.\n",
      "\n",
      "This initial warning can be silenced or aggravated in the future by setting the\n",
      "$GIT_PYTHON_REFRESH environment variable. Use one of the following values:\n",
      "    - quiet|q|silence|s|none|n|0: for no warning or exception\n",
      "    - warn|w|warning|1: for a printed warning\n",
      "    - error|e|raise|r|2: for a raised exception\n",
      "\n",
      "Example:\n",
      "    export GIT_PYTHON_REFRESH=quiet\n",
      "\n"
     ]
    }
   ],
   "metadata": {}
  },
  {
   "cell_type": "code",
   "execution_count": null,
   "source": [
    "# Save the MLflow Model\r\n",
    "# mlflow.pyfunc.save_model(\r\n",
    "#         path=mlflow_pyfunc_model_path, python_model=ModelWrapper(), artifacts=artifacts,\r\n",
    "#         conda_env=conda_env)"
   ],
   "outputs": [],
   "metadata": {}
  }
 ],
 "metadata": {
  "kernelspec": {
   "name": "python3",
   "display_name": "Python 3.9.5 64-bit ('blis': conda)"
  },
  "language_info": {
   "codemirror_mode": {
    "name": "ipython",
    "version": 3
   },
   "file_extension": ".py",
   "mimetype": "text/x-python",
   "name": "python",
   "nbconvert_exporter": "python",
   "pygments_lexer": "ipython3",
   "version": "3.9.5"
  },
  "interpreter": {
   "hash": "ef94d82f6a94bc6da5cce44ba2c149173d1f18c778c797ebcbf6812c049dc8dd"
  }
 },
 "nbformat": 4,
 "nbformat_minor": 4
}