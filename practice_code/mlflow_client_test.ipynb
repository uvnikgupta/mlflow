{
 "cells": [
  {
   "cell_type": "code",
   "execution_count": 9,
   "source": [
    "from pprint import pprint\r\n",
    "import pandas as pd\r\n",
    "import mlflow\r\n",
    "from mlflow.tracking import MlflowClient\r\n",
    "\r\n",
    "backend_uri = os.environ.get('MLFLOW_TRACKING_URI')\r\n",
    "mlflow.set_tracking_uri(backend_uri)\r\n",
    "client = MlflowClient()"
   ],
   "outputs": [
    {
     "output_type": "display_data",
     "data": {
      "text/plain": [
       "<IPython.core.display.Javascript object>"
      ],
      "application/javascript": "\n        if (window._pyforest_update_imports_cell) { window._pyforest_update_imports_cell('import os'); }\n    "
     },
     "metadata": {}
    }
   ],
   "metadata": {}
  },
  {
   "cell_type": "code",
   "execution_count": 3,
   "source": [
    "prediction_types = [\r\n",
    "    { 'type': 'Regression', 'registered_as': 'regres'},\r\n",
    "    { 'type': 'Classification', 'registered_as': ''}\r\n",
    "]\r\n",
    "\r\n",
    "prediction_types = pd.DataFrame(prediction_types)\r\n",
    "prediction_types.index += 1"
   ],
   "outputs": [],
   "metadata": {}
  },
  {
   "cell_type": "code",
   "execution_count": 4,
   "source": [
    "prediction_types"
   ],
   "outputs": [
    {
     "output_type": "execute_result",
     "data": {
      "text/plain": [
       "             type registered_as\n",
       "1      Regression        linreg\n",
       "2  Classification              "
      ],
      "text/html": [
       "<div>\n",
       "<style scoped>\n",
       "    .dataframe tbody tr th:only-of-type {\n",
       "        vertical-align: middle;\n",
       "    }\n",
       "\n",
       "    .dataframe tbody tr th {\n",
       "        vertical-align: top;\n",
       "    }\n",
       "\n",
       "    .dataframe thead th {\n",
       "        text-align: right;\n",
       "    }\n",
       "</style>\n",
       "<table border=\"1\" class=\"dataframe\">\n",
       "  <thead>\n",
       "    <tr style=\"text-align: right;\">\n",
       "      <th></th>\n",
       "      <th>type</th>\n",
       "      <th>registered_as</th>\n",
       "    </tr>\n",
       "  </thead>\n",
       "  <tbody>\n",
       "    <tr>\n",
       "      <th>1</th>\n",
       "      <td>Regression</td>\n",
       "      <td>linreg</td>\n",
       "    </tr>\n",
       "    <tr>\n",
       "      <th>2</th>\n",
       "      <td>Classification</td>\n",
       "      <td></td>\n",
       "    </tr>\n",
       "  </tbody>\n",
       "</table>\n",
       "</div>"
      ]
     },
     "metadata": {},
     "execution_count": 4
    }
   ],
   "metadata": {
    "scrolled": true
   }
  },
  {
   "cell_type": "code",
   "execution_count": 5,
   "source": [
    "prediction_types[prediction_types['registered_as'] == '' ]"
   ],
   "outputs": [
    {
     "output_type": "execute_result",
     "data": {
      "text/plain": [
       "             type registered_as\n",
       "2  Classification              "
      ],
      "text/html": [
       "<div>\n",
       "<style scoped>\n",
       "    .dataframe tbody tr th:only-of-type {\n",
       "        vertical-align: middle;\n",
       "    }\n",
       "\n",
       "    .dataframe tbody tr th {\n",
       "        vertical-align: top;\n",
       "    }\n",
       "\n",
       "    .dataframe thead th {\n",
       "        text-align: right;\n",
       "    }\n",
       "</style>\n",
       "<table border=\"1\" class=\"dataframe\">\n",
       "  <thead>\n",
       "    <tr style=\"text-align: right;\">\n",
       "      <th></th>\n",
       "      <th>type</th>\n",
       "      <th>registered_as</th>\n",
       "    </tr>\n",
       "  </thead>\n",
       "  <tbody>\n",
       "    <tr>\n",
       "      <th>2</th>\n",
       "      <td>Classification</td>\n",
       "      <td></td>\n",
       "    </tr>\n",
       "  </tbody>\n",
       "</table>\n",
       "</div>"
      ]
     },
     "metadata": {},
     "execution_count": 5
    }
   ],
   "metadata": {
    "scrolled": true
   }
  },
  {
   "cell_type": "code",
   "execution_count": 18,
   "source": [
    "for rm in client.list_registered_models():\r\n",
    "    pprint(dict(dict(rm)['latest_versions'][0])['name'], indent=4)"
   ],
   "outputs": [
    {
     "output_type": "stream",
     "name": "stdout",
     "text": [
      "'linreg'\n",
      "'linreg-v2.0'\n"
     ]
    }
   ],
   "metadata": {}
  },
  {
   "cell_type": "code",
   "execution_count": 22,
   "source": [
    "selected_ptype = 1\r\n",
    "base_name = prediction_types.loc[selected_ptype]['registered_as']\r\n",
    "names = []\r\n",
    "\r\n",
    "for rm in client.list_registered_models():\r\n",
    "    reg_name = dict(dict(rm)['latest_versions'][0])['name']\r\n",
    "    if base_name in reg_name:\r\n",
    "        names.append(reg_name)"
   ],
   "outputs": [],
   "metadata": {}
  },
  {
   "cell_type": "code",
   "execution_count": 26,
   "source": [
    "registered_models = pd.DataFrame(columns=['source', 'version', 'stage', 'name'])\r\n",
    "for name in names:\r\n",
    "    for mv in client.search_model_versions(f\"name='{name}'\"):\r\n",
    "        mv = dict(mv)\r\n",
    "        data = {'source': mv['source'].split('/')[-1], \r\n",
    "                'version': mv['version'], \r\n",
    "                'stage': mv['current_stage'],\r\n",
    "                'name': name\r\n",
    "               }\r\n",
    "        registered_models = registered_models.append(data, ignore_index = True)\r\n",
    "\r\n",
    "registered_models.index += 1"
   ],
   "outputs": [],
   "metadata": {}
  },
  {
   "cell_type": "code",
   "execution_count": 27,
   "source": [
    "registered_models"
   ],
   "outputs": [
    {
     "output_type": "execute_result",
     "data": {
      "text/plain": [
       "                  source version    stage         name\n",
       "1      mlflow_tf_housing       1  Staging       linreg\n",
       "2      mlflow_tf_housing       2     None       linreg\n",
       "3  mlflow_custom_housing       3     None       linreg\n",
       "4  mlflow_custom_housing       4     None       linreg\n",
       "5      mlflow_sk_housing       1     None  linreg-v2.0\n",
       "6      mlflow_sk_housing       2  Staging  linreg-v2.0"
      ],
      "text/html": [
       "<div>\n",
       "<style scoped>\n",
       "    .dataframe tbody tr th:only-of-type {\n",
       "        vertical-align: middle;\n",
       "    }\n",
       "\n",
       "    .dataframe tbody tr th {\n",
       "        vertical-align: top;\n",
       "    }\n",
       "\n",
       "    .dataframe thead th {\n",
       "        text-align: right;\n",
       "    }\n",
       "</style>\n",
       "<table border=\"1\" class=\"dataframe\">\n",
       "  <thead>\n",
       "    <tr style=\"text-align: right;\">\n",
       "      <th></th>\n",
       "      <th>source</th>\n",
       "      <th>version</th>\n",
       "      <th>stage</th>\n",
       "      <th>name</th>\n",
       "    </tr>\n",
       "  </thead>\n",
       "  <tbody>\n",
       "    <tr>\n",
       "      <th>1</th>\n",
       "      <td>mlflow_tf_housing</td>\n",
       "      <td>1</td>\n",
       "      <td>Staging</td>\n",
       "      <td>linreg</td>\n",
       "    </tr>\n",
       "    <tr>\n",
       "      <th>2</th>\n",
       "      <td>mlflow_tf_housing</td>\n",
       "      <td>2</td>\n",
       "      <td>None</td>\n",
       "      <td>linreg</td>\n",
       "    </tr>\n",
       "    <tr>\n",
       "      <th>3</th>\n",
       "      <td>mlflow_custom_housing</td>\n",
       "      <td>3</td>\n",
       "      <td>None</td>\n",
       "      <td>linreg</td>\n",
       "    </tr>\n",
       "    <tr>\n",
       "      <th>4</th>\n",
       "      <td>mlflow_custom_housing</td>\n",
       "      <td>4</td>\n",
       "      <td>None</td>\n",
       "      <td>linreg</td>\n",
       "    </tr>\n",
       "    <tr>\n",
       "      <th>5</th>\n",
       "      <td>mlflow_sk_housing</td>\n",
       "      <td>1</td>\n",
       "      <td>None</td>\n",
       "      <td>linreg-v2.0</td>\n",
       "    </tr>\n",
       "    <tr>\n",
       "      <th>6</th>\n",
       "      <td>mlflow_sk_housing</td>\n",
       "      <td>2</td>\n",
       "      <td>Staging</td>\n",
       "      <td>linreg-v2.0</td>\n",
       "    </tr>\n",
       "  </tbody>\n",
       "</table>\n",
       "</div>"
      ]
     },
     "metadata": {},
     "execution_count": 27
    }
   ],
   "metadata": {}
  },
  {
   "cell_type": "code",
   "execution_count": 31,
   "source": [
    "cond = (registered_models['stage'] == 'Staging')\r\n",
    "for _, row in registered_models[cond].iterrows():\r\n",
    "    print(f\"{row['source']}:v{row['version']}\")"
   ],
   "outputs": [
    {
     "output_type": "stream",
     "name": "stdout",
     "text": [
      "mlflow_tf_housing:v1\n",
      "mlflow_sk_housing:v2\n"
     ]
    }
   ],
   "metadata": {}
  },
  {
   "cell_type": "code",
   "execution_count": 49,
   "source": [
    "name = \"regres-v2.0\"\r\n",
    "cond = '(stage == \"Staging\") and (name == @name)'\r\n",
    "registered_models.query(cond)"
   ],
   "outputs": [
    {
     "output_type": "execute_result",
     "data": {
      "text/plain": [
       "              source version    stage         name\n",
       "6  mlflow_sk_housing       2  Staging  linreg-v2.0"
      ],
      "text/html": [
       "<div>\n",
       "<style scoped>\n",
       "    .dataframe tbody tr th:only-of-type {\n",
       "        vertical-align: middle;\n",
       "    }\n",
       "\n",
       "    .dataframe tbody tr th {\n",
       "        vertical-align: top;\n",
       "    }\n",
       "\n",
       "    .dataframe thead th {\n",
       "        text-align: right;\n",
       "    }\n",
       "</style>\n",
       "<table border=\"1\" class=\"dataframe\">\n",
       "  <thead>\n",
       "    <tr style=\"text-align: right;\">\n",
       "      <th></th>\n",
       "      <th>source</th>\n",
       "      <th>version</th>\n",
       "      <th>stage</th>\n",
       "      <th>name</th>\n",
       "    </tr>\n",
       "  </thead>\n",
       "  <tbody>\n",
       "    <tr>\n",
       "      <th>6</th>\n",
       "      <td>mlflow_sk_housing</td>\n",
       "      <td>2</td>\n",
       "      <td>Staging</td>\n",
       "      <td>linreg-v2.0</td>\n",
       "    </tr>\n",
       "  </tbody>\n",
       "</table>\n",
       "</div>"
      ]
     },
     "metadata": {},
     "execution_count": 49
    }
   ],
   "metadata": {}
  },
  {
   "cell_type": "code",
   "execution_count": 32,
   "source": [
    "df = registered_models[~cond]\r\n",
    "df"
   ],
   "outputs": [
    {
     "output_type": "execute_result",
     "data": {
      "text/plain": [
       "                  source version stage         name\n",
       "2      mlflow_tf_housing       2  None       linreg\n",
       "3  mlflow_custom_housing       3  None       linreg\n",
       "4  mlflow_custom_housing       4  None       linreg\n",
       "5      mlflow_sk_housing       1  None  linreg-v2.0"
      ],
      "text/html": [
       "<div>\n",
       "<style scoped>\n",
       "    .dataframe tbody tr th:only-of-type {\n",
       "        vertical-align: middle;\n",
       "    }\n",
       "\n",
       "    .dataframe tbody tr th {\n",
       "        vertical-align: top;\n",
       "    }\n",
       "\n",
       "    .dataframe thead th {\n",
       "        text-align: right;\n",
       "    }\n",
       "</style>\n",
       "<table border=\"1\" class=\"dataframe\">\n",
       "  <thead>\n",
       "    <tr style=\"text-align: right;\">\n",
       "      <th></th>\n",
       "      <th>source</th>\n",
       "      <th>version</th>\n",
       "      <th>stage</th>\n",
       "      <th>name</th>\n",
       "    </tr>\n",
       "  </thead>\n",
       "  <tbody>\n",
       "    <tr>\n",
       "      <th>2</th>\n",
       "      <td>mlflow_tf_housing</td>\n",
       "      <td>2</td>\n",
       "      <td>None</td>\n",
       "      <td>linreg</td>\n",
       "    </tr>\n",
       "    <tr>\n",
       "      <th>3</th>\n",
       "      <td>mlflow_custom_housing</td>\n",
       "      <td>3</td>\n",
       "      <td>None</td>\n",
       "      <td>linreg</td>\n",
       "    </tr>\n",
       "    <tr>\n",
       "      <th>4</th>\n",
       "      <td>mlflow_custom_housing</td>\n",
       "      <td>4</td>\n",
       "      <td>None</td>\n",
       "      <td>linreg</td>\n",
       "    </tr>\n",
       "    <tr>\n",
       "      <th>5</th>\n",
       "      <td>mlflow_sk_housing</td>\n",
       "      <td>1</td>\n",
       "      <td>None</td>\n",
       "      <td>linreg-v2.0</td>\n",
       "    </tr>\n",
       "  </tbody>\n",
       "</table>\n",
       "</div>"
      ]
     },
     "metadata": {},
     "execution_count": 32
    }
   ],
   "metadata": {}
  },
  {
   "cell_type": "code",
   "execution_count": 33,
   "source": [
    "for index, row in registered_models[~cond].iterrows():\r\n",
    "    print(f\"{row['source']}:v{row['version']}\")"
   ],
   "outputs": [
    {
     "output_type": "stream",
     "name": "stdout",
     "text": [
      "mlflow_tf_housing:v2\n",
      "mlflow_custom_housing:v3\n",
      "mlflow_custom_housing:v4\n",
      "mlflow_sk_housing:v1\n"
     ]
    }
   ],
   "metadata": {}
  },
  {
   "cell_type": "code",
   "execution_count": 27,
   "source": [
    "current_version = int(registered_models[cond]['version'].iloc[0])\r\n",
    "selected_version = 2\r\n",
    "\r\n",
    "client.transition_model_version_stage(\r\n",
    "    name = name,\r\n",
    "    version = current_version,\r\n",
    "    stage=\"Archived\"\r\n",
    ")\r\n",
    "\r\n",
    "client.transition_model_version_stage(\r\n",
    "    name = name,\r\n",
    "    version = selected_version,\r\n",
    "    stage=\"Staging\"\r\n",
    ")"
   ],
   "outputs": [
    {
     "output_type": "execute_result",
     "data": {
      "text/plain": [
       "<ModelVersion: creation_timestamp=1626929161471, current_stage='Staging', description=None, last_updated_timestamp=1626929571214, name='linreg', run_id='23320a23a02049ca935dbf22ecced8bb', run_link=None, source='s3://mlruns/23320a23a02049ca935dbf22ecced8bb/artifacts/mlflow_tf_housing', status='READY', status_message=None, tags={}, user_id=None, version=2>"
      ]
     },
     "metadata": {},
     "execution_count": 27
    }
   ],
   "metadata": {}
  },
  {
   "cell_type": "code",
   "execution_count": 59,
   "source": [
    "import subprocess\r\n",
    "import json\r\n",
    "\r\n",
    "out = subprocess.run([\"kubectl\", \"describe\", \"svc\", \"mlflow-regres-infer\"], \r\n",
    "                    stdout=subprocess.PIPE, encoding='utf-8')\r\n",
    "print(out.stdout)"
   ],
   "outputs": [
    {
     "output_type": "stream",
     "name": "stdout",
     "text": [
      "Name:                     mlflow-ligreg-infer\n",
      "Namespace:                default\n",
      "Labels:                   <none>\n",
      "Annotations:              <none>\n",
      "Selector:                 app=mlflow-ligreg-infer\n",
      "Type:                     NodePort\n",
      "IP:                       10.102.200.4\n",
      "LoadBalancer Ingress:     localhost\n",
      "Port:                     <unset>  1236/TCP\n",
      "TargetPort:               1236/TCP\n",
      "NodePort:                 <unset>  31236/TCP\n",
      "Endpoints:                10.1.1.177:1236,10.1.1.178:1236\n",
      "Session Affinity:         None\n",
      "External Traffic Policy:  Cluster\n",
      "Events:                   <none>\n",
      "\n"
     ]
    }
   ],
   "metadata": {}
  },
  {
   "cell_type": "code",
   "execution_count": 68,
   "source": [
    "cmd = \"kubectl describe svc mlflow-regres-infer | findstr Endpoints\"\r\n",
    "ps = subprocess.Popen(cmd,shell=True,stdout=subprocess.PIPE,stderr=subprocess.STDOUT, encoding='utf-8')\r\n",
    "output = ps.communicate()[0]\r\n",
    "print(output.split(','))"
   ],
   "outputs": [
    {
     "output_type": "stream",
     "name": "stdout",
     "text": [
      "['Endpoints:                10.1.1.177:1236', '10.1.1.178:1236\\n']\n"
     ]
    }
   ],
   "metadata": {}
  }
 ],
 "metadata": {
  "kernelspec": {
   "display_name": "Python 3",
   "language": "python",
   "name": "python3"
  },
  "language_info": {
   "codemirror_mode": {
    "name": "ipython",
    "version": 3
   },
   "file_extension": ".py",
   "mimetype": "text/x-python",
   "name": "python",
   "nbconvert_exporter": "python",
   "pygments_lexer": "ipython3",
   "version": "3.6.8"
  }
 },
 "nbformat": 4,
 "nbformat_minor": 4
}