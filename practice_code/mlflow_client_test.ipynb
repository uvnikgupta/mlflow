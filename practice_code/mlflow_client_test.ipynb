{
 "cells": [
  {
   "cell_type": "code",
   "execution_count": 9,
   "metadata": {},
   "outputs": [
    {
     "data": {
      "application/javascript": [
       "\n",
       "        if (window._pyforest_update_imports_cell) { window._pyforest_update_imports_cell('import os'); }\n",
       "    "
      ],
      "text/plain": [
       "<IPython.core.display.Javascript object>"
      ]
     },
     "metadata": {},
     "output_type": "display_data"
    }
   ],
   "source": [
    "from pprint import pprint\n",
    "import pandas as pd\n",
    "import mlflow\n",
    "from mlflow.tracking import MlflowClient\n",
    "\n",
    "backend_uri = os.environ.get('MLFLOW_TRACKING_URI')\n",
    "mlflow.set_tracking_uri(backend_uri)\n",
    "client = MlflowClient()"
   ]
  },
  {
   "cell_type": "code",
   "execution_count": 3,
   "metadata": {},
   "outputs": [],
   "source": [
    "prediction_types = [\n",
    "    { 'type': 'Regression', 'registered_as': 'linreg'},\n",
    "    { 'type': 'Classification', 'registered_as': ''}\n",
    "]\n",
    "\n",
    "prediction_types = pd.DataFrame(prediction_types)\n",
    "prediction_types.index += 1"
   ]
  },
  {
   "cell_type": "code",
   "execution_count": 4,
   "metadata": {
    "scrolled": true
   },
   "outputs": [
    {
     "data": {
      "text/html": [
       "<div>\n",
       "<style scoped>\n",
       "    .dataframe tbody tr th:only-of-type {\n",
       "        vertical-align: middle;\n",
       "    }\n",
       "\n",
       "    .dataframe tbody tr th {\n",
       "        vertical-align: top;\n",
       "    }\n",
       "\n",
       "    .dataframe thead th {\n",
       "        text-align: right;\n",
       "    }\n",
       "</style>\n",
       "<table border=\"1\" class=\"dataframe\">\n",
       "  <thead>\n",
       "    <tr style=\"text-align: right;\">\n",
       "      <th></th>\n",
       "      <th>type</th>\n",
       "      <th>registered_as</th>\n",
       "    </tr>\n",
       "  </thead>\n",
       "  <tbody>\n",
       "    <tr>\n",
       "      <th>1</th>\n",
       "      <td>Regression</td>\n",
       "      <td>linreg</td>\n",
       "    </tr>\n",
       "    <tr>\n",
       "      <th>2</th>\n",
       "      <td>Classification</td>\n",
       "      <td></td>\n",
       "    </tr>\n",
       "  </tbody>\n",
       "</table>\n",
       "</div>"
      ],
      "text/plain": [
       "             type registered_as\n",
       "1      Regression        linreg\n",
       "2  Classification              "
      ]
     },
     "execution_count": 4,
     "metadata": {},
     "output_type": "execute_result"
    }
   ],
   "source": [
    "prediction_types"
   ]
  },
  {
   "cell_type": "code",
   "execution_count": 5,
   "metadata": {
    "scrolled": true
   },
   "outputs": [
    {
     "data": {
      "text/html": [
       "<div>\n",
       "<style scoped>\n",
       "    .dataframe tbody tr th:only-of-type {\n",
       "        vertical-align: middle;\n",
       "    }\n",
       "\n",
       "    .dataframe tbody tr th {\n",
       "        vertical-align: top;\n",
       "    }\n",
       "\n",
       "    .dataframe thead th {\n",
       "        text-align: right;\n",
       "    }\n",
       "</style>\n",
       "<table border=\"1\" class=\"dataframe\">\n",
       "  <thead>\n",
       "    <tr style=\"text-align: right;\">\n",
       "      <th></th>\n",
       "      <th>type</th>\n",
       "      <th>registered_as</th>\n",
       "    </tr>\n",
       "  </thead>\n",
       "  <tbody>\n",
       "    <tr>\n",
       "      <th>2</th>\n",
       "      <td>Classification</td>\n",
       "      <td></td>\n",
       "    </tr>\n",
       "  </tbody>\n",
       "</table>\n",
       "</div>"
      ],
      "text/plain": [
       "             type registered_as\n",
       "2  Classification              "
      ]
     },
     "execution_count": 5,
     "metadata": {},
     "output_type": "execute_result"
    }
   ],
   "source": [
    "prediction_types[prediction_types['registered_as'] == '' ]"
   ]
  },
  {
   "cell_type": "code",
   "execution_count": 18,
   "metadata": {},
   "outputs": [
    {
     "name": "stdout",
     "output_type": "stream",
     "text": [
      "'linreg'\n",
      "'linreg-v2.0'\n"
     ]
    }
   ],
   "source": [
    "for rm in client.list_registered_models():\n",
    "    pprint(dict(dict(rm)['latest_versions'][0])['name'], indent=4)"
   ]
  },
  {
   "cell_type": "code",
   "execution_count": 22,
   "metadata": {},
   "outputs": [],
   "source": [
    "selected_ptype = 1\n",
    "base_name = prediction_types.loc[selected_ptype]['registered_as']\n",
    "names = []\n",
    "\n",
    "for rm in client.list_registered_models():\n",
    "    reg_name = dict(dict(rm)['latest_versions'][0])['name']\n",
    "    if base_name in reg_name:\n",
    "        names.append(reg_name)"
   ]
  },
  {
   "cell_type": "code",
   "execution_count": 26,
   "metadata": {},
   "outputs": [],
   "source": [
    "registered_models = pd.DataFrame(columns=['source', 'version', 'stage', 'name'])\n",
    "for name in names:\n",
    "    for mv in client.search_model_versions(f\"name='{name}'\"):\n",
    "        mv = dict(mv)\n",
    "        data = {'source': mv['source'].split('/')[-1], \n",
    "                'version': mv['version'], \n",
    "                'stage': mv['current_stage'],\n",
    "                'name': name\n",
    "               }\n",
    "        registered_models = registered_models.append(data, ignore_index = True)\n",
    "\n",
    "registered_models.index += 1"
   ]
  },
  {
   "cell_type": "code",
   "execution_count": 27,
   "metadata": {},
   "outputs": [
    {
     "data": {
      "text/html": [
       "<div>\n",
       "<style scoped>\n",
       "    .dataframe tbody tr th:only-of-type {\n",
       "        vertical-align: middle;\n",
       "    }\n",
       "\n",
       "    .dataframe tbody tr th {\n",
       "        vertical-align: top;\n",
       "    }\n",
       "\n",
       "    .dataframe thead th {\n",
       "        text-align: right;\n",
       "    }\n",
       "</style>\n",
       "<table border=\"1\" class=\"dataframe\">\n",
       "  <thead>\n",
       "    <tr style=\"text-align: right;\">\n",
       "      <th></th>\n",
       "      <th>source</th>\n",
       "      <th>version</th>\n",
       "      <th>stage</th>\n",
       "      <th>name</th>\n",
       "    </tr>\n",
       "  </thead>\n",
       "  <tbody>\n",
       "    <tr>\n",
       "      <th>1</th>\n",
       "      <td>mlflow_tf_housing</td>\n",
       "      <td>1</td>\n",
       "      <td>Staging</td>\n",
       "      <td>linreg</td>\n",
       "    </tr>\n",
       "    <tr>\n",
       "      <th>2</th>\n",
       "      <td>mlflow_tf_housing</td>\n",
       "      <td>2</td>\n",
       "      <td>None</td>\n",
       "      <td>linreg</td>\n",
       "    </tr>\n",
       "    <tr>\n",
       "      <th>3</th>\n",
       "      <td>mlflow_custom_housing</td>\n",
       "      <td>3</td>\n",
       "      <td>None</td>\n",
       "      <td>linreg</td>\n",
       "    </tr>\n",
       "    <tr>\n",
       "      <th>4</th>\n",
       "      <td>mlflow_custom_housing</td>\n",
       "      <td>4</td>\n",
       "      <td>None</td>\n",
       "      <td>linreg</td>\n",
       "    </tr>\n",
       "    <tr>\n",
       "      <th>5</th>\n",
       "      <td>mlflow_sk_housing</td>\n",
       "      <td>1</td>\n",
       "      <td>None</td>\n",
       "      <td>linreg-v2.0</td>\n",
       "    </tr>\n",
       "    <tr>\n",
       "      <th>6</th>\n",
       "      <td>mlflow_sk_housing</td>\n",
       "      <td>2</td>\n",
       "      <td>Staging</td>\n",
       "      <td>linreg-v2.0</td>\n",
       "    </tr>\n",
       "  </tbody>\n",
       "</table>\n",
       "</div>"
      ],
      "text/plain": [
       "                  source version    stage         name\n",
       "1      mlflow_tf_housing       1  Staging       linreg\n",
       "2      mlflow_tf_housing       2     None       linreg\n",
       "3  mlflow_custom_housing       3     None       linreg\n",
       "4  mlflow_custom_housing       4     None       linreg\n",
       "5      mlflow_sk_housing       1     None  linreg-v2.0\n",
       "6      mlflow_sk_housing       2  Staging  linreg-v2.0"
      ]
     },
     "execution_count": 27,
     "metadata": {},
     "output_type": "execute_result"
    }
   ],
   "source": [
    "registered_models"
   ]
  },
  {
   "cell_type": "code",
   "execution_count": 31,
   "metadata": {},
   "outputs": [
    {
     "name": "stdout",
     "output_type": "stream",
     "text": [
      "mlflow_tf_housing:v1\n",
      "mlflow_sk_housing:v2\n"
     ]
    }
   ],
   "source": [
    "cond = (registered_models['stage'] == 'Staging')\n",
    "for _, row in registered_models[cond].iterrows():\n",
    "    print(f\"{row['source']}:v{row['version']}\")"
   ]
  },
  {
   "cell_type": "code",
   "execution_count": 49,
   "metadata": {},
   "outputs": [
    {
     "data": {
      "text/html": [
       "<div>\n",
       "<style scoped>\n",
       "    .dataframe tbody tr th:only-of-type {\n",
       "        vertical-align: middle;\n",
       "    }\n",
       "\n",
       "    .dataframe tbody tr th {\n",
       "        vertical-align: top;\n",
       "    }\n",
       "\n",
       "    .dataframe thead th {\n",
       "        text-align: right;\n",
       "    }\n",
       "</style>\n",
       "<table border=\"1\" class=\"dataframe\">\n",
       "  <thead>\n",
       "    <tr style=\"text-align: right;\">\n",
       "      <th></th>\n",
       "      <th>source</th>\n",
       "      <th>version</th>\n",
       "      <th>stage</th>\n",
       "      <th>name</th>\n",
       "    </tr>\n",
       "  </thead>\n",
       "  <tbody>\n",
       "    <tr>\n",
       "      <th>6</th>\n",
       "      <td>mlflow_sk_housing</td>\n",
       "      <td>2</td>\n",
       "      <td>Staging</td>\n",
       "      <td>linreg-v2.0</td>\n",
       "    </tr>\n",
       "  </tbody>\n",
       "</table>\n",
       "</div>"
      ],
      "text/plain": [
       "              source version    stage         name\n",
       "6  mlflow_sk_housing       2  Staging  linreg-v2.0"
      ]
     },
     "execution_count": 49,
     "metadata": {},
     "output_type": "execute_result"
    }
   ],
   "source": [
    "name = \"linreg-v2.0\"\n",
    "cond = '(stage == \"Staging\") and (name == @name)'\n",
    "registered_models.query(cond)"
   ]
  },
  {
   "cell_type": "code",
   "execution_count": 32,
   "metadata": {},
   "outputs": [
    {
     "data": {
      "text/html": [
       "<div>\n",
       "<style scoped>\n",
       "    .dataframe tbody tr th:only-of-type {\n",
       "        vertical-align: middle;\n",
       "    }\n",
       "\n",
       "    .dataframe tbody tr th {\n",
       "        vertical-align: top;\n",
       "    }\n",
       "\n",
       "    .dataframe thead th {\n",
       "        text-align: right;\n",
       "    }\n",
       "</style>\n",
       "<table border=\"1\" class=\"dataframe\">\n",
       "  <thead>\n",
       "    <tr style=\"text-align: right;\">\n",
       "      <th></th>\n",
       "      <th>source</th>\n",
       "      <th>version</th>\n",
       "      <th>stage</th>\n",
       "      <th>name</th>\n",
       "    </tr>\n",
       "  </thead>\n",
       "  <tbody>\n",
       "    <tr>\n",
       "      <th>2</th>\n",
       "      <td>mlflow_tf_housing</td>\n",
       "      <td>2</td>\n",
       "      <td>None</td>\n",
       "      <td>linreg</td>\n",
       "    </tr>\n",
       "    <tr>\n",
       "      <th>3</th>\n",
       "      <td>mlflow_custom_housing</td>\n",
       "      <td>3</td>\n",
       "      <td>None</td>\n",
       "      <td>linreg</td>\n",
       "    </tr>\n",
       "    <tr>\n",
       "      <th>4</th>\n",
       "      <td>mlflow_custom_housing</td>\n",
       "      <td>4</td>\n",
       "      <td>None</td>\n",
       "      <td>linreg</td>\n",
       "    </tr>\n",
       "    <tr>\n",
       "      <th>5</th>\n",
       "      <td>mlflow_sk_housing</td>\n",
       "      <td>1</td>\n",
       "      <td>None</td>\n",
       "      <td>linreg-v2.0</td>\n",
       "    </tr>\n",
       "  </tbody>\n",
       "</table>\n",
       "</div>"
      ],
      "text/plain": [
       "                  source version stage         name\n",
       "2      mlflow_tf_housing       2  None       linreg\n",
       "3  mlflow_custom_housing       3  None       linreg\n",
       "4  mlflow_custom_housing       4  None       linreg\n",
       "5      mlflow_sk_housing       1  None  linreg-v2.0"
      ]
     },
     "execution_count": 32,
     "metadata": {},
     "output_type": "execute_result"
    }
   ],
   "source": [
    "df = registered_models[~cond]\n",
    "df"
   ]
  },
  {
   "cell_type": "code",
   "execution_count": 33,
   "metadata": {},
   "outputs": [
    {
     "name": "stdout",
     "output_type": "stream",
     "text": [
      "mlflow_tf_housing:v2\n",
      "mlflow_custom_housing:v3\n",
      "mlflow_custom_housing:v4\n",
      "mlflow_sk_housing:v1\n"
     ]
    }
   ],
   "source": [
    "for index, row in registered_models[~cond].iterrows():\n",
    "    print(f\"{row['source']}:v{row['version']}\")"
   ]
  },
  {
   "cell_type": "code",
   "execution_count": 27,
   "metadata": {},
   "outputs": [
    {
     "data": {
      "text/plain": [
       "<ModelVersion: creation_timestamp=1626929161471, current_stage='Staging', description=None, last_updated_timestamp=1626929571214, name='linreg', run_id='23320a23a02049ca935dbf22ecced8bb', run_link=None, source='s3://mlruns/23320a23a02049ca935dbf22ecced8bb/artifacts/mlflow_tf_housing', status='READY', status_message=None, tags={}, user_id=None, version=2>"
      ]
     },
     "execution_count": 27,
     "metadata": {},
     "output_type": "execute_result"
    }
   ],
   "source": [
    "current_version = int(registered_models[cond]['version'].iloc[0])\n",
    "selected_version = 2\n",
    "\n",
    "client.transition_model_version_stage(\n",
    "    name = name,\n",
    "    version = current_version,\n",
    "    stage=\"Archived\"\n",
    ")\n",
    "\n",
    "client.transition_model_version_stage(\n",
    "    name = name,\n",
    "    version = selected_version,\n",
    "    stage=\"Staging\"\n",
    ")"
   ]
  },
  {
   "cell_type": "code",
   "execution_count": 59,
   "metadata": {},
   "outputs": [
    {
     "name": "stdout",
     "output_type": "stream",
     "text": [
      "Name:                     mlflow-ligreg-infer\n",
      "Namespace:                default\n",
      "Labels:                   <none>\n",
      "Annotations:              <none>\n",
      "Selector:                 app=mlflow-ligreg-infer\n",
      "Type:                     NodePort\n",
      "IP:                       10.102.200.4\n",
      "LoadBalancer Ingress:     localhost\n",
      "Port:                     <unset>  1236/TCP\n",
      "TargetPort:               1236/TCP\n",
      "NodePort:                 <unset>  31236/TCP\n",
      "Endpoints:                10.1.1.177:1236,10.1.1.178:1236\n",
      "Session Affinity:         None\n",
      "External Traffic Policy:  Cluster\n",
      "Events:                   <none>\n",
      "\n"
     ]
    }
   ],
   "source": [
    "import subprocess\n",
    "import json\n",
    "\n",
    "out = subprocess.run([\"kubectl\", \"describe\", \"svc\", \"mlflow-ligreg-infer\"], \n",
    "                    stdout=subprocess.PIPE, encoding='utf-8')\n",
    "print(out.stdout)"
   ]
  },
  {
   "cell_type": "code",
   "execution_count": 68,
   "metadata": {},
   "outputs": [
    {
     "name": "stdout",
     "output_type": "stream",
     "text": [
      "['Endpoints:                10.1.1.177:1236', '10.1.1.178:1236\\n']\n"
     ]
    }
   ],
   "source": [
    "cmd = \"kubectl describe svc mlflow-ligreg-infer | findstr Endpoints\"\n",
    "ps = subprocess.Popen(cmd,shell=True,stdout=subprocess.PIPE,stderr=subprocess.STDOUT, encoding='utf-8')\n",
    "output = ps.communicate()[0]\n",
    "print(output.split(','))"
   ]
  }
 ],
 "metadata": {
  "kernelspec": {
   "display_name": "Python 3",
   "language": "python",
   "name": "python3"
  },
  "language_info": {
   "codemirror_mode": {
    "name": "ipython",
    "version": 3
   },
   "file_extension": ".py",
   "mimetype": "text/x-python",
   "name": "python",
   "nbconvert_exporter": "python",
   "pygments_lexer": "ipython3",
   "version": "3.6.8"
  }
 },
 "nbformat": 4,
 "nbformat_minor": 4
}
