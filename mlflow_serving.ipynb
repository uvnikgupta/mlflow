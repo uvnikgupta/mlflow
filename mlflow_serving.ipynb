{
 "cells": [
  {
   "cell_type": "markdown",
   "metadata": {},
   "source": [
    "## README\n",
    "mlflow models can be served from the runs or from the registered models using the below methods:\n",
    "\n",
    "<code>mlflow models serve --model-uri runs:/YOUR_MODEL_RUN/YOUR_MODEL_NAME -p PORT</code><br>\n",
    "<code>mlflow models serve --model-uri models:/REGISTERED_MODEL_NAME/MODEL_VERSION -p PORT</code><br>\n",
    "<code>mlflow models serve -m file:/<PATH_TO_MODEL> -p PORT </code>\n",
    "\n",
    "The meta information for serving the model is retrieved from the location specified by the <code>MLFLOW_TRACKING_URI</code> environment variable\n",
    "\n",
    "Refer : https://www.mlflow.org/docs/latest/model-registry.html"
   ]
  },
  {
   "cell_type": "code",
   "execution_count": 5,
   "metadata": {},
   "outputs": [],
   "source": [
    "import pandas as pd\n",
    "import numpy as np\n",
    "import subprocess\n",
    "import json\n",
    "import seaborn as sns\n",
    "import matplotlib.pyplot as plt\n",
    "from sklearn.preprocessing import StandardScaler\n",
    "from sklearn.model_selection import train_test_split\n",
    "from sklearn.metrics import classification_report\n",
    "\n",
    "import mlflow\n",
    "import mlflow.sklearn\n",
    "\n",
    "from load_data import DataLoader"
   ]
  },
  {
   "cell_type": "code",
   "execution_count": 2,
   "metadata": {},
   "outputs": [],
   "source": [
    "dl = DataLoader()\n",
    "dl.load_data('dataset/creditcard.csv', ['Class'], ['Time'])"
   ]
  },
  {
   "cell_type": "code",
   "execution_count": 57,
   "metadata": {},
   "outputs": [],
   "source": [
    "batch_size = 80\n",
    "num_batches = 30\n",
    "result = []\n",
    "for n in range(num_batches):\n",
    "    input_json = pd.DataFrame(data=dl.x_test[n * batch_size:(n+1) * batch_size], \n",
    "                              columns=dl.featureColumns).to_json(orient=\"split\")\n",
    "    proc = subprocess.run([\"curl\",  \"-X\", \"POST\", \"-H\", \n",
    "                           \"Content-Type:application/json; format=pandas-split\", \n",
    "                           \"--data\", input_json, \"http://127.0.0.1:31235/invocations\"], \n",
    "                          stdout=subprocess.PIPE, encoding='utf-8')\n",
    "    output = proc.stdout\n",
    "    result = result+ json.loads(output)"
   ]
  },
  {
   "cell_type": "code",
   "execution_count": 58,
   "metadata": {},
   "outputs": [
    {
     "name": "stdout",
     "output_type": "stream",
     "text": [
      "              precision    recall  f1-score   support\n",
      "\n",
      "           0       1.00      1.00      1.00      2398\n",
      "           1       0.67      1.00      0.80         2\n",
      "\n",
      "    accuracy                           1.00      2400\n",
      "   macro avg       0.83      1.00      0.90      2400\n",
      "weighted avg       1.00      1.00      1.00      2400\n",
      "\n"
     ]
    }
   ],
   "source": [
    "df2 = pd.DataFrame(result)\n",
    "print(classification_report(dl.y_test[:num_batches * batch_size], np.array(result).reshape(-1,1)))"
   ]
  }
 ],
 "metadata": {
  "interpreter": {
   "hash": "d44f142d1d854cf38fbd7787462eb25d71efdc59e9fd4d52059045fe1cb15b63"
  },
  "kernelspec": {
   "display_name": "Python 3",
   "language": "python",
   "name": "python3"
  },
  "language_info": {
   "codemirror_mode": {
    "name": "ipython",
    "version": 3
   },
   "file_extension": ".py",
   "mimetype": "text/x-python",
   "name": "python",
   "nbconvert_exporter": "python",
   "pygments_lexer": "ipython3",
   "version": "3.6.8"
  }
 },
 "nbformat": 4,
 "nbformat_minor": 4
}
