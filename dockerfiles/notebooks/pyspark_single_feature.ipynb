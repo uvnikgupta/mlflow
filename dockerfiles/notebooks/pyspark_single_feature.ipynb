{
 "cells": [
  {
   "cell_type": "code",
   "execution_count": null,
   "source": [
    "import os\r\n",
    "import io\r\n",
    "import pandas as pd\r\n",
    "import numpy as np\r\n",
    "import mlflow\r\n",
    "import dvc.api\r\n",
    "from pyspark.sql import SparkSession\r\n",
    "from pyspark.sql import functions as f\r\n",
    "\r\n",
    "spark = SparkSession.builder.appName(\"house\").getOrCreate()\r\n",
    "\r\n",
    "path = 'dataset/housing.csv'\r\n",
    "repo = '../.git'\r\n",
    "version = 'v1' #Git tag\r\n",
    "\r\n",
    "data_url = dvc.api.get_url(\r\n",
    "    path = path,\r\n",
    "    repo = repo,\r\n",
    "    rev = version\r\n",
    ")\r\n",
    "\r\n",
    "backend_uri = os.environ['MLFLOW_TRACKING_URI']\r\n",
    "artifact_uri = os.environ['MLFLOW_ARTIFACT_STORE']\r\n",
    "mlflow.set_tracking_uri(backend_uri)"
   ],
   "outputs": [],
   "metadata": {}
  },
  {
   "cell_type": "code",
   "execution_count": null,
   "source": [
    "def fetch_data_from_s3(path, repo, version):\r\n",
    "    data = dvc.api.read(\r\n",
    "            path = path,\r\n",
    "            repo = repo,\r\n",
    "            rev = version\r\n",
    "        )\r\n",
    "    df = pd.read_csv(io.StringIO(data), sep=',')\r\n",
    "    df.to_csv(\"tmp.csv\")\r\n",
    "    df = spark.read.csv(\"tmp.csv\", sep=',', header=True, inferSchema=True)\r\n",
    "    return df\r\n",
    "\r\n",
    "\r\n",
    "def fetch_data_from_fs(url):\r\n",
    "    return pd.read_csv(url, sep=',')\r\n",
    "\r\n",
    "\r\n",
    "def fetch_data(url):\r\n",
    "    storage_type = url.split(\":\")[0]\r\n",
    "    if storage_type.upper() == \"S3\":\r\n",
    "        data = fetch_data_from_s3(path, repo, version)\r\n",
    "    else:\r\n",
    "        data = fetch_data_from_fs(url)\r\n",
    "        \r\n",
    "    return data"
   ],
   "outputs": [],
   "metadata": {}
  },
  {
   "cell_type": "code",
   "execution_count": null,
   "source": [
    "housing = fetch_data(data_url)\r\n",
    "housing = housing.select(\"housing_median_age\")\r\n",
    "housing.show(5)"
   ],
   "outputs": [],
   "metadata": {}
  },
  {
   "cell_type": "code",
   "execution_count": null,
   "source": [
    "logged_model = 'models:/house/Staging'\r\n",
    "model = mlflow.pyfunc.spark_udf(spark, logged_model)\r\n",
    "\r\n",
    "df = housing.withColumn('predictions', model(f.col(\"housing_median_age\")))\r\n",
    "df.show()"
   ],
   "outputs": [],
   "metadata": {}
  }
 ],
 "metadata": {
  "kernelspec": {
   "display_name": "Python 3",
   "language": "python",
   "name": "python3"
  },
  "language_info": {
   "codemirror_mode": {
    "name": "ipython",
    "version": 3
   },
   "file_extension": ".py",
   "mimetype": "text/x-python",
   "name": "python",
   "nbconvert_exporter": "python",
   "pygments_lexer": "ipython3",
   "version": "3.6.8"
  }
 },
 "nbformat": 4,
 "nbformat_minor": 4
}