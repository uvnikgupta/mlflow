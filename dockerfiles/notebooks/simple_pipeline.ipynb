{
 "cells": [
  {
   "cell_type": "code",
   "execution_count": null,
   "source": [
    "from sys import version_info\n",
    "import os\n",
    "import io\n",
    "import pandas as pd\n",
    "import numpy as np\n",
    "import joblib\n",
    "import sklearn\n",
    "from sklearn.metrics import mean_squared_error\n",
    "from sklearn.model_selection import train_test_split\n",
    "from sklearn.preprocessing import StandardScaler, OneHotEncoder\n",
    "from sklearn.impute import SimpleImputer\n",
    "from sklearn.linear_model import LinearRegression\n",
    "from sklearn.pipeline import Pipeline\n",
    "from sklearn.compose import ColumnTransformer\n",
    "import mlflow\n",
    "import dvc.api\n",
    "import warnings\n",
    "\n",
    "warnings.filterwarnings(\"ignore\")\n",
    "\n",
    "PYTHON_VERSION = \"{major}.{minor}.{micro}\".format(major=version_info.major,\n",
    "                                                  minor=version_info.minor,\n",
    "                                                  micro=version_info.micro)\n",
    "pipeline_path = \"pipe.pkl\"\n",
    "model_path = \"model.pkl\"\n",
    "\n",
    "path = 'dataset/housing.csv'\n",
    "repo = '../.git'\n",
    "version = 'v1' #Git tag\n",
    "\n",
    "data_url = dvc.api.get_url(\n",
    "    path = path,\n",
    "    repo = repo,\n",
    "    rev = version\n",
    ")"
   ],
   "outputs": [],
   "metadata": {}
  },
  {
   "cell_type": "code",
   "execution_count": null,
   "source": [
    "def fetch_data_from_s3(path, repo, version):\n",
    "    data = dvc.api.read(\n",
    "            path = path,\n",
    "            repo = repo,\n",
    "            rev = version\n",
    "        )\n",
    "    return pd.read_csv(io.StringIO(data), sep=',')\n",
    "\n",
    "\n",
    "def fetch_data_from_fs(url):\n",
    "    return pd.read_csv(url, sep=',')\n",
    "\n",
    "\n",
    "def fetch_data(url):\n",
    "    storage_type = url.split(\":\")[0]\n",
    "    if storage_type.upper() == \"S3\":\n",
    "        data = fetch_data_from_s3(path, repo, version)\n",
    "    else:\n",
    "        data = fetch_data_from_fs(url)\n",
    "        \n",
    "    return data"
   ],
   "outputs": [],
   "metadata": {}
  },
  {
   "cell_type": "code",
   "execution_count": null,
   "source": [
    "backend_uri = os.environ['MLFLOW_TRACKING_URI']\n",
    "artifact_uri = os.environ['MLFLOW_ARTIFACT_STORE']\n",
    "mlflow.set_tracking_uri(backend_uri)"
   ],
   "outputs": [],
   "metadata": {}
  },
  {
   "cell_type": "code",
   "execution_count": null,
   "source": [
    "housing = fetch_data(data_url)\n",
    "housing.head()"
   ],
   "outputs": [],
   "metadata": {}
  },
  {
   "cell_type": "markdown",
   "source": [
    "### Create pipeline"
   ],
   "metadata": {}
  },
  {
   "cell_type": "code",
   "execution_count": null,
   "source": [
    "targetCol = \"median_house_value\"\r\n",
    "catCols = [\"ocean_proximity\"]\r\n",
    "numCols = [\"housing_median_age\", \"total_rooms\", \"total_bedrooms\", \"population\", \"households\", \"median_income\"]\r\n",
    "\r\n",
    "num_pipeline = Pipeline([\r\n",
    "                    (\"Imputer\", SimpleImputer()),\r\n",
    "                    (\"Scaler\", StandardScaler())\r\n",
    "                ])\r\n",
    "\r\n",
    "full_pipeline = ColumnTransformer([\r\n",
    "                    (\"Numerical_Pipeline\", num_pipeline, numCols),\r\n",
    "                    (\"OneHot\", OneHotEncoder(), catCols)\r\n",
    "                ])"
   ],
   "outputs": [],
   "metadata": {}
  },
  {
   "cell_type": "markdown",
   "source": [
    "### Data processing"
   ],
   "metadata": {}
  },
  {
   "cell_type": "code",
   "execution_count": null,
   "source": [
    "x = housing[numCols + catCols]\r\n",
    "y = housing[targetCol]\r\n",
    "\r\n",
    "x_train, x_test, y_train, y_test = train_test_split(x, y, test_size=0.2, random_state=42, shuffle=True)\r\n",
    "x_train = full_pipeline.fit_transform(x_train)\r\n",
    "x_test = full_pipeline.transform(x_test)"
   ],
   "outputs": [],
   "metadata": {}
  },
  {
   "cell_type": "markdown",
   "source": [
    "### Build Model"
   ],
   "metadata": {}
  },
  {
   "cell_type": "code",
   "execution_count": null,
   "source": [
    "model = LinearRegression()\r\n",
    "model.fit(x_train, y_train)\r\n",
    "predictions = model.predict(x_test)\r\n",
    "rmse = np.sqrt(mean_squared_error(y_test, predictions))\r\n",
    "rmse"
   ],
   "outputs": [],
   "metadata": {}
  },
  {
   "cell_type": "markdown",
   "source": [
    "### Save the pipeline and the model"
   ],
   "metadata": {}
  },
  {
   "cell_type": "code",
   "execution_count": null,
   "source": [
    "joblib.dump(model, model_path)\r\n",
    "joblib.dump(full_pipeline, pipeline_path);"
   ],
   "outputs": [],
   "metadata": {}
  },
  {
   "cell_type": "code",
   "execution_count": null,
   "source": [
    "# Create an `artifacts` dictionary that assigns a unique name to the saved pipeline and the model\r\n",
    "# This dictionary will be passed to `mlflow.pyfunc.save_model`, which will copy the model file\r\n",
    "# into the new MLflow Model's directory.\r\n",
    "artifacts = {\r\n",
    "    \"pipeline\": pipeline_path,\r\n",
    "    \"model\": model_path\r\n",
    "}\r\n",
    "\r\n",
    "# Define the model class\r\n",
    "class ModelWrapper(mlflow.pyfunc.PythonModel):\r\n",
    "    def load_context(self, context):\r\n",
    "        self.pipeline = joblib.load(context.artifacts[\"pipeline\"])\r\n",
    "        self.model = joblib.load(context.artifacts[\"model\"])\r\n",
    "\r\n",
    "    def predict(self, context, model_input):\r\n",
    "        model_input.columns = [\"housing_median_age\", \"total_rooms\", \"total_bedrooms\", \r\n",
    "                   \"population\", \"households\", \"median_income\", \"ocean_proximity\"]\r\n",
    "        input_matrix = self.pipeline.transform(model_input)\r\n",
    "        return self.model.predict(input_matrix)"
   ],
   "outputs": [],
   "metadata": {}
  },
  {
   "cell_type": "code",
   "execution_count": null,
   "source": [
    "# Create a Conda environment for the new MLflow Model that contains all necessary dependencies.\r\n",
    "import cloudpickle\r\n",
    "conda_env = {\r\n",
    "    'channels': ['defaults'],\r\n",
    "    'dependencies': [\r\n",
    "      'python={}'.format(PYTHON_VERSION),\r\n",
    "      'pip',\r\n",
    "      {\r\n",
    "        'pip': [\r\n",
    "          'mlflow',\r\n",
    "          'scikit-learn=={}'.format(sklearn.__version__),\r\n",
    "          'joblib=={}'.format(joblib.__version__),\r\n",
    "          'cloudpickle=={}'.format(cloudpickle.__version__),\r\n",
    "        ],\r\n",
    "      },\r\n",
    "    ],\r\n",
    "    'name': 'model_env'\r\n",
    "}"
   ],
   "outputs": [],
   "metadata": {}
  },
  {
   "cell_type": "code",
   "execution_count": null,
   "source": [
    "experiment = mlflow.get_experiment_by_name(\"sk_housing\")\r\n",
    "if experiment is None:\r\n",
    "    experiment_id = mlflow.create_experiment(\"sk_housing\", artifact_location=artifact_uri)\r\n",
    "    experiment = mlflow.get_experiment(experiment_id)\r\n",
    "\r\n",
    "mlflow.set_experiment(experiment.name)\r\n",
    "\r\n",
    "mlflow_pyfunc_model_path = \"mlflow_sk_housing\"\r\n",
    "with mlflow.start_run():\r\n",
    "    mlflow.log_param('data_url', data_url)\r\n",
    "    mlflow.log_param('data_version', version)\r\n",
    "    mlflow.log_param('input_rows', x_train.shape[0])\r\n",
    "    mlflow.log_param('input_columns', x_train.shape[1])\r\n",
    "    \r\n",
    "    mlflow.log_metric(\"rmse\", rmse)\r\n",
    "    mlflow.pyfunc.log_model(mlflow_pyfunc_model_path, \r\n",
    "                            python_model=ModelWrapper(), \r\n",
    "                            artifacts=artifacts,\r\n",
    "                            conda_env=conda_env)"
   ],
   "outputs": [],
   "metadata": {}
  },
  {
   "cell_type": "code",
   "execution_count": null,
   "source": [
    "# Save the MLflow Model\r\n",
    "# mlflow.pyfunc.save_model(\r\n",
    "#         path=mlflow_pyfunc_model_path, python_model=ModelWrapper(), artifacts=artifacts,\r\n",
    "#         conda_env=conda_env)"
   ],
   "outputs": [],
   "metadata": {}
  }
 ],
 "metadata": {
  "kernelspec": {
   "display_name": "Python 3",
   "language": "python",
   "name": "python3"
  },
  "language_info": {
   "codemirror_mode": {
    "name": "ipython",
    "version": 3
   },
   "file_extension": ".py",
   "mimetype": "text/x-python",
   "name": "python",
   "nbconvert_exporter": "python",
   "pygments_lexer": "ipython3",
   "version": "3.6.8"
  }
 },
 "nbformat": 4,
 "nbformat_minor": 4
}