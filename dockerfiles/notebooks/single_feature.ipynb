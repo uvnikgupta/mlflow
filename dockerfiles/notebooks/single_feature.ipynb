{
 "cells": [
  {
   "cell_type": "code",
   "execution_count": null,
   "metadata": {},
   "outputs": [],
   "source": [
    "from sys import version_info\n",
    "import os\n",
    "import io\n",
    "import pandas as pd\n",
    "import numpy as np\n",
    "import joblib\n",
    "from sklearn.metrics import mean_squared_error\n",
    "from sklearn.linear_model import LinearRegression\n",
    "\n",
    "import mlflow\n",
    "from mlflow.models.signature import ModelSignature\n",
    "from mlflow.types.schema import Schema, ColSpec\n",
    "import dvc.api\n",
    "import warnings\n",
    "\n",
    "warnings.filterwarnings(\"ignore\")\n",
    "\n",
    "backend_uri = os.environ['MLFLOW_TRACKING_URI']\n",
    "artifact_uri = os.environ['MLFLOW_ARTIFACT_STORE']\n",
    "mlflow.set_tracking_uri(backend_uri)\n",
    "\n",
    "path = 'dataset/housing.csv'\n",
    "repo = '../.git'\n",
    "version = 'v1' #Git tag\n",
    "\n",
    "data_url = dvc.api.get_url(\n",
    "    path = path,\n",
    "    repo = repo,\n",
    "    rev = version\n",
    ")"
   ]
  },
  {
   "cell_type": "code",
   "execution_count": null,
   "metadata": {},
   "outputs": [],
   "source": [
    "def fetch_data_from_s3(path, repo, version):\n",
    "    data = dvc.api.read(\n",
    "            path = path,\n",
    "            repo = repo,\n",
    "            rev = version\n",
    "        )\n",
    "    return pd.read_csv(io.StringIO(data), sep=',')\n",
    "\n",
    "\n",
    "def fetch_data_from_fs(url):\n",
    "    return pd.read_csv(url, sep=',')\n",
    "\n",
    "\n",
    "def fetch_data(url):\n",
    "    storage_type = url.split(\":\")[0]\n",
    "    if storage_type.upper() == \"S3\":\n",
    "        data = fetch_data_from_s3(path, repo, version)\n",
    "    else:\n",
    "        data = fetch_data_from_fs(url)\n",
    "        \n",
    "    return data"
   ]
  },
  {
   "cell_type": "code",
   "execution_count": null,
   "metadata": {},
   "outputs": [],
   "source": [
    "housing = fetch_data(data_url)\n",
    "x_train = housing[\"housing_median_age\"].values.reshape(-1,1)\n",
    "y_train = housing[\"median_house_value\"].values.reshape(-1,1)\n",
    "\n",
    "model = LinearRegression()\n",
    "model.fit(x_train, y_train)\n",
    "predictions = model.predict(x_train)\n",
    "rmse = np.sqrt(mean_squared_error(y_train, predictions))\n",
    "rmse"
   ]
  },
  {
   "cell_type": "code",
   "execution_count": null,
   "metadata": {},
   "outputs": [],
   "source": [
    "input_schema = Schema([ColSpec(\"double\", \"housing_median_age\")])\n",
    "output_schema = Schema([ColSpec('double')])\n",
    "sign = ModelSignature(inputs=input_schema, outputs=output_schema)"
   ]
  },
  {
   "cell_type": "code",
   "execution_count": null,
   "metadata": {},
   "outputs": [],
   "source": [
    "experiment = mlflow.get_experiment_by_name(\"single_feature\")\n",
    "if experiment is None:\n",
    "    experiment_id = mlflow.create_experiment(\"single_feature\", artifact_location=artifact_uri)\n",
    "    experiment = mlflow.get_experiment(experiment_id)\n",
    "\n",
    "mlflow.set_experiment(experiment.name)\n",
    "\n",
    "model_path = \"single_feature\"\n",
    "with mlflow.start_run():\n",
    "    mlflow.log_param('data_url', data_url)\n",
    "    mlflow.log_param('data_version', version)\n",
    "    mlflow.log_param('input_rows', x_train.shape[0])\n",
    "    mlflow.log_param('input_columns', x_train.shape[1])\n",
    "    \n",
    "    mlflow.log_metric(\"rmse\", rmse)\n",
    "    mlflow.sklearn.log_model(model, model_path, signature=sign)"
   ]
  }
 ],
 "metadata": {
  "kernelspec": {
   "display_name": "Python 3",
   "language": "python",
   "name": "python3"
  },
  "language_info": {
   "codemirror_mode": {
    "name": "ipython",
    "version": 3
   },
   "file_extension": ".py",
   "mimetype": "text/x-python",
   "name": "python",
   "nbconvert_exporter": "python",
   "pygments_lexer": "ipython3",
   "version": "3.6.8"
  }
 },
 "nbformat": 4,
 "nbformat_minor": 2
}
