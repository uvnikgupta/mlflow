{
 "cells": [
  {
   "cell_type": "code",
   "execution_count": null,
   "source": [
    "from sys import version_info\r\n",
    "import os\r\n",
    "import io\r\n",
    "import joblib\r\n",
    "import pandas as pd\r\n",
    "import numpy as np\r\n",
    "import sklearn\r\n",
    "from sklearn.metrics import mean_squared_error\r\n",
    "from sklearn.pipeline import Pipeline\r\n",
    "from sklearn.compose import ColumnTransformer\r\n",
    "from sklearn.preprocessing import StandardScaler, OneHotEncoder\r\n",
    "from sklearn.impute import SimpleImputer\r\n",
    "from sklearn.model_selection import train_test_split\r\n",
    "import tensorflow as tf\r\n",
    "from tensorflow.keras.models import Sequential\r\n",
    "from tensorflow.keras.layers import Dense, Input\r\n",
    "\r\n",
    "import mlflow\r\n",
    "import dvc.api\r\n",
    "import warnings\r\n",
    "\r\n",
    "warnings.filterwarnings(\"ignore\")\r\n",
    "\r\n",
    "backend_uri = os.environ['MLFLOW_TRACKING_URI']\r\n",
    "artifact_uri = os.environ['MLFLOW_ARTIFACT_STORE']\r\n",
    "mlflow.set_tracking_uri(backend_uri)\r\n",
    "\r\n",
    "PYTHON_VERSION = \"{major}.{minor}.{micro}\".format(major=version_info.major,\r\n",
    "                                                  minor=version_info.minor,\r\n",
    "                                                  micro=version_info.micro)\r\n",
    "pipeline_path = \"pipe.pkl\"\r\n",
    "model_path = \"model.h5\"\r\n",
    "\r\n",
    "path = 'dataset/housing.csv'\r\n",
    "repo = '../.git'\r\n",
    "version = 'v1' #Git tag\r\n",
    "\r\n",
    "data_url = dvc.api.get_url(\r\n",
    "    path = path,\r\n",
    "    repo = repo,\r\n",
    "    rev = version\r\n",
    ")"
   ],
   "outputs": [],
   "metadata": {}
  },
  {
   "cell_type": "code",
   "execution_count": null,
   "source": [
    "def fetch_data_from_s3(path, repo, version):\r\n",
    "    data = dvc.api.read(\r\n",
    "            path = path,\r\n",
    "            repo = repo,\r\n",
    "            rev = version\r\n",
    "        )\r\n",
    "    return pd.read_csv(io.StringIO(data), sep=',')\r\n",
    "\r\n",
    "\r\n",
    "def fetch_data_from_fs(url):\r\n",
    "    return pd.read_csv(url, sep=',')\r\n",
    "\r\n",
    "\r\n",
    "def fetch_data(url):\r\n",
    "    storage_type = url.split(\":\")[0]\r\n",
    "    if storage_type.upper() == \"S3\":\r\n",
    "        data = fetch_data_from_s3(path, repo, version)\r\n",
    "    else:\r\n",
    "        data = fetch_data_from_fs(url)\r\n",
    "        \r\n",
    "    return data"
   ],
   "outputs": [],
   "metadata": {}
  },
  {
   "cell_type": "code",
   "execution_count": null,
   "source": [
    "housing = fetch_data(data_url)\r\n",
    "housing.head()"
   ],
   "outputs": [],
   "metadata": {}
  },
  {
   "cell_type": "code",
   "execution_count": null,
   "source": [
    "targetCol = \"median_house_value\"\r\n",
    "catCols = [\"ocean_proximity\"]\r\n",
    "numCols = [\"housing_median_age\", \"total_rooms\", \"total_bedrooms\", \"population\", \"households\", \"median_income\"]\r\n",
    "\r\n",
    "num_pipeline = Pipeline([\r\n",
    "                    (\"Imputer\", SimpleImputer()),\r\n",
    "                    (\"Scaler\", StandardScaler())\r\n",
    "                ])\r\n",
    "\r\n",
    "full_pipeline = ColumnTransformer([\r\n",
    "                    (\"Numerical_Pipeline\", num_pipeline, numCols),\r\n",
    "                    (\"OneHot\", OneHotEncoder(), catCols)\r\n",
    "                ])"
   ],
   "outputs": [],
   "metadata": {}
  },
  {
   "cell_type": "code",
   "execution_count": null,
   "source": [
    "x = housing[numCols + catCols]\r\n",
    "y = housing[targetCol]\r\n",
    "\r\n",
    "x_train, x_val, y_train, y_val = train_test_split(x, y, test_size=0.2, random_state=42, shuffle=True)\r\n",
    "x_train = full_pipeline.fit_transform(x_train)\r\n",
    "x_val = full_pipeline.transform(x_val)"
   ],
   "outputs": [],
   "metadata": {}
  },
  {
   "cell_type": "code",
   "execution_count": null,
   "source": [
    "model = Sequential()\r\n",
    "model.add(Input(shape=(x_train.shape[1],)))\r\n",
    "model.add(Dense(11, activation='relu'))\r\n",
    "model.add(Dense(11, activation='relu'))\r\n",
    "model.add(Dense(1, activation='relu'))\r\n",
    "model.summary()"
   ],
   "outputs": [],
   "metadata": {}
  },
  {
   "cell_type": "code",
   "execution_count": null,
   "source": [
    "model.compile(optimizer=\"Adam\", loss=\"mse\", metrics=[tf.keras.metrics.MeanSquaredError()])\r\n",
    "history = model.fit(x=x_train, y=y_train, batch_size=32, epochs=10)\r\n",
    "preds = model.predict(x_val)\r\n",
    "rmse = np.sqrt(mean_squared_error(preds, y_val))\r\n",
    "print(\"rmse: \", rmse)"
   ],
   "outputs": [],
   "metadata": {}
  },
  {
   "cell_type": "code",
   "execution_count": null,
   "source": [
    "tf.keras.models.save_model(model, model_path)\r\n",
    "joblib.dump(full_pipeline, pipeline_path);"
   ],
   "outputs": [],
   "metadata": {}
  },
  {
   "cell_type": "code",
   "execution_count": null,
   "source": [
    "# Create an `artifacts` dictionary that assigns a unique name to the saved pipeline and the model\r\n",
    "# This dictionary will be passed to `mlflow.pyfunc.save_model`, which will copy the model file\r\n",
    "# into the new MLflow Model's directory.\r\n",
    "artifacts = {\r\n",
    "    \"pipeline\": pipeline_path,\r\n",
    "    \"model\": model_path\r\n",
    "}\r\n",
    "\r\n",
    "# Define the model class\r\n",
    "class ModelWrapper(mlflow.pyfunc.PythonModel):\r\n",
    "    import tensorflow as tf\r\n",
    "    \r\n",
    "    def load_context(self, context):\r\n",
    "        self.pipeline = joblib.load(context.artifacts[\"pipeline\"])\r\n",
    "        self.model = tf.keras.models.load_model(context.artifacts[\"model\"])\r\n",
    "\r\n",
    "    def predict(self, context, model_input):\r\n",
    "        model_input.columns = [\"housing_median_age\", \"total_rooms\", \"total_bedrooms\", \r\n",
    "                   \"population\", \"households\", \"median_income\", \"ocean_proximity\"]\r\n",
    "        input_matrix = self.pipeline.transform(model_input)\r\n",
    "        return self.model.predict(input_matrix)"
   ],
   "outputs": [],
   "metadata": {}
  },
  {
   "cell_type": "code",
   "execution_count": null,
   "source": [
    "experiment = mlflow.get_experiment_by_name(\"tf_housing\")\r\n",
    "if experiment is None:\r\n",
    "    experiment_id = mlflow.create_experiment(\"tf_housing\", artifact_location=artifact_uri)\r\n",
    "    experiment = mlflow.get_experiment(experiment_id)\r\n",
    "\r\n",
    "mlflow.set_experiment(experiment.name)\r\n",
    "\r\n",
    "mlflow_pyfunc_model_path = \"mlflow_tf_housing\"\r\n",
    "with mlflow.start_run():\r\n",
    "    mlflow.log_param('data_url', data_url)\r\n",
    "    mlflow.log_param('data_version', version)\r\n",
    "    mlflow.log_param('input_rows', x_train.shape[0])\r\n",
    "    mlflow.log_param('input_columns', x_train.shape[1])\r\n",
    "    \r\n",
    "    mlflow.log_metric(\"rmse\", rmse)\r\n",
    "    mlflow.pyfunc.log_model(mlflow_pyfunc_model_path, \r\n",
    "                            python_model=ModelWrapper(), \r\n",
    "                            artifacts=artifacts)\r\n",
    "mlflow.end_run()"
   ],
   "outputs": [],
   "metadata": {}
  }
 ],
 "metadata": {
  "kernelspec": {
   "display_name": "Python 3",
   "language": "python",
   "name": "python3"
  },
  "language_info": {
   "codemirror_mode": {
    "name": "ipython",
    "version": 3
   },
   "file_extension": ".py",
   "mimetype": "text/x-python",
   "name": "python",
   "nbconvert_exporter": "python",
   "pygments_lexer": "ipython3",
   "version": "3.6.8"
  }
 },
 "nbformat": 4,
 "nbformat_minor": 4
}