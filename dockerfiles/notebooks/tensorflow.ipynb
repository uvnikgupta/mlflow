{
 "cells": [
  {
   "cell_type": "code",
   "execution_count": null,
   "metadata": {},
   "outputs": [],
   "source": [
    "from sys import version_info\n",
    "import os\n",
    "import io\n",
    "import joblib\n",
    "import pandas as pd\n",
    "import numpy as np\n",
    "import sklearn\n",
    "from sklearn.metrics import mean_squared_error\n",
    "from sklearn.pipeline import Pipeline\n",
    "from sklearn.compose import ColumnTransformer\n",
    "from sklearn.preprocessing import StandardScaler, OneHotEncoder\n",
    "from sklearn.impute import SimpleImputer\n",
    "from sklearn.model_selection import train_test_split\n",
    "import tensorflow as tf\n",
    "from tensorflow.keras.models import Sequential\n",
    "from tensorflow.keras.layers import Dense, Input\n",
    "\n",
    "import mlflow\n",
    "import dvc.api\n",
    "import warnings\n",
    "\n",
    "warnings.filterwarnings(\"ignore\")\n",
    "\n",
    "backend_uri = os.environ['MLFLOW_TRACKING_URI']\n",
    "artifact_uri = os.environ['MLFLOW_ARTIFACT_STORE']\n",
    "mlflow.set_tracking_uri(backend_uri)\n",
    "\n",
    "PYTHON_VERSION = \"{major}.{minor}.{micro}\".format(major=version_info.major,\n",
    "                                                  minor=version_info.minor,\n",
    "                                                  micro=version_info.micro)\n",
    "pipeline_path = \"pipe.pkl\"\n",
    "model_path = \"model.h5\"\n",
    "\n",
    "path = 'dataset/housing.csv'\n",
    "repo = '../.git'\n",
    "version = 'v1' #Git tag\n",
    "\n",
    "data_url = dvc.api.get_url(\n",
    "    path = path,\n",
    "    repo = repo,\n",
    "    rev = version\n",
    ")"
   ]
  },
  {
   "cell_type": "code",
   "execution_count": null,
   "metadata": {},
   "outputs": [],
   "source": [
    "def fetch_data_from_s3(path, repo, version):\n",
    "    data = dvc.api.read(\n",
    "            path = path,\n",
    "            repo = repo,\n",
    "            rev = version\n",
    "        )\n",
    "    return pd.read_csv(io.StringIO(data), sep=',')\n",
    "\n",
    "\n",
    "def fetch_data_from_fs(url):\n",
    "    return pd.read_csv(url, sep=',')\n",
    "\n",
    "\n",
    "def fetch_data(url):\n",
    "    storage_type = url.split(\":\")[0]\n",
    "    if storage_type.upper() == \"S3\":\n",
    "        data = fetch_data_from_s3(path, repo, version)\n",
    "    else:\n",
    "        data = fetch_data_from_fs(url)\n",
    "        \n",
    "    return data"
   ]
  },
  {
   "cell_type": "code",
   "execution_count": null,
   "metadata": {},
   "outputs": [],
   "source": [
    "housing = fetch_data(data_url)\n",
    "housing.head()"
   ]
  },
  {
   "cell_type": "code",
   "execution_count": null,
   "metadata": {},
   "outputs": [],
   "source": [
    "targetCol = \"median_house_value\"\n",
    "catCols = [\"ocean_proximity\"]\n",
    "numCols = [\"housing_median_age\", \"total_rooms\", \"total_bedrooms\", \"population\", \"households\", \"median_income\"]\n",
    "\n",
    "num_pipeline = Pipeline([\n",
    "                    (\"Imputer\", SimpleImputer()),\n",
    "                    (\"Scaler\", StandardScaler())\n",
    "                ])\n",
    "\n",
    "full_pipeline = ColumnTransformer([\n",
    "                    (\"Numerical_Pipeline\", num_pipeline, numCols),\n",
    "                    (\"OneHot\", OneHotEncoder(), catCols)\n",
    "                ])"
   ]
  },
  {
   "cell_type": "code",
   "execution_count": null,
   "metadata": {},
   "outputs": [],
   "source": [
    "x = housing[numCols + catCols]\n",
    "y = housing[targetCol]\n",
    "\n",
    "x_train, x_val, y_train, y_val = train_test_split(x, y, test_size=0.2, random_state=42, shuffle=True)\n",
    "x_train = full_pipeline.fit_transform(x_train)\n",
    "x_val = full_pipeline.transform(x_val)"
   ]
  },
  {
   "cell_type": "code",
   "execution_count": null,
   "metadata": {},
   "outputs": [],
   "source": [
    "model = Sequential()\n",
    "model.add(Input(shape=(x_train.shape[1],)))\n",
    "model.add(Dense(11, activation='relu'))\n",
    "model.add(Dense(11, activation='relu'))\n",
    "model.add(Dense(1, activation='relu'))\n",
    "model.summary()"
   ]
  },
  {
   "cell_type": "code",
   "execution_count": null,
   "metadata": {},
   "outputs": [],
   "source": [
    "model.compile(optimizer=\"Adam\", loss=\"mse\", metrics=[tf.keras.metrics.MeanSquaredError()])\n",
    "history = model.fit(x=x_train, y=y_train, batch_size=32, epochs=10)\n",
    "preds = model.predict(x_val)\n",
    "rmse = np.sqrt(mean_squared_error(preds, y_val))\n",
    "print(\"rmse: \", rmse)"
   ]
  },
  {
   "cell_type": "code",
   "execution_count": null,
   "metadata": {},
   "outputs": [],
   "source": [
    "tf.keras.models.save_model(model, model_path)\n",
    "joblib.dump(full_pipeline, pipeline_path);"
   ]
  },
  {
   "cell_type": "code",
   "execution_count": null,
   "metadata": {},
   "outputs": [],
   "source": [
    "# Create an `artifacts` dictionary that assigns a unique name to the saved pipeline and the model\n",
    "# This dictionary will be passed to `mlflow.pyfunc.save_model`, which will copy the model file\n",
    "# into the new MLflow Model's directory.\n",
    "artifacts = {\n",
    "    \"pipeline\": pipeline_path,\n",
    "    \"model\": model_path\n",
    "}\n",
    "\n",
    "# Define the model class\n",
    "class ModelWrapper(mlflow.pyfunc.PythonModel):\n",
    "    import tensorflow as tf\n",
    "    \n",
    "    def load_context(self, context):\n",
    "        self.pipeline = joblib.load(context.artifacts[\"pipeline\"])\n",
    "        self.model = tf.keras.models.load_model(context.artifacts[\"model\"])\n",
    "\n",
    "    def predict(self, context, model_input):\n",
    "        input_matrix = self.pipeline.transform(model_input)\n",
    "        return self.model.predict(input_matrix)"
   ]
  },
  {
   "cell_type": "code",
   "execution_count": null,
   "metadata": {},
   "outputs": [],
   "source": [
    "experiment = mlflow.get_experiment_by_name(\"Tensorflow\")\n",
    "if experiment is None:\n",
    "    experiment_id = mlflow.create_experiment(\"Tensorflow\", artifact_location=artifact_uri)\n",
    "    experiment = mlflow.get_experiment(experiment_id)\n",
    "\n",
    "mlflow.set_experiment(experiment.name)\n",
    "\n",
    "mlflow_pyfunc_model_path = \"mlflow_tensorflow_pipeline\"\n",
    "with mlflow.start_run():\n",
    "    mlflow.log_param('data_url', data_url)\n",
    "    mlflow.log_param('data_version', version)\n",
    "    mlflow.log_param('input_rows', x_train.shape[0])\n",
    "    mlflow.log_param('input_columns', x_train.shape[1])\n",
    "    \n",
    "    mlflow.log_metric(\"rmse\", rmse)\n",
    "    mlflow.pyfunc.log_model(mlflow_pyfunc_model_path, \n",
    "                            python_model=ModelWrapper(), \n",
    "                            artifacts=artifacts)\n",
    "mlflow.end_run()"
   ]
  }
 ],
 "metadata": {
  "kernelspec": {
   "display_name": "Python 3",
   "language": "python",
   "name": "python3"
  },
  "language_info": {
   "codemirror_mode": {
    "name": "ipython",
    "version": 3
   },
   "file_extension": ".py",
   "mimetype": "text/x-python",
   "name": "python",
   "nbconvert_exporter": "python",
   "pygments_lexer": "ipython3",
   "version": "3.6.8"
  }
 },
 "nbformat": 4,
 "nbformat_minor": 4
}
