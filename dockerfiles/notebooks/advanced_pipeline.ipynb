{
 "cells": [
  {
   "cell_type": "code",
   "execution_count": 1,
   "source": [
    "import os\r\n",
    "import io\r\n",
    "import pandas as pd\r\n",
    "import numpy as np\r\n",
    "import joblib\r\n",
    "from sklearn.metrics import mean_squared_error\r\n",
    "from sklearn.model_selection import train_test_split\r\n",
    "from sklearn.preprocessing import StandardScaler, OneHotEncoder, FunctionTransformer\r\n",
    "from sklearn.impute import SimpleImputer\r\n",
    "from sklearn.linear_model import LinearRegression\r\n",
    "from sklearn.pipeline import Pipeline\r\n",
    "from sklearn.compose import ColumnTransformer\r\n",
    "import mlflow\r\n",
    "import dvc.api\r\n",
    "import warnings\r\n",
    "\r\n",
    "from custom_data_transformers.utils import HouseColumnTransformerFunc\r\n",
    "\r\n",
    "warnings.filterwarnings(\"ignore\")\r\n",
    "\r\n",
    "pipeline_path = \"pipe.pkl\"\r\n",
    "model_path = \"model.pkl\"\r\n",
    "\r\n",
    "path = 'dataset/housing.csv'\r\n",
    "repo = '../.git'\r\n",
    "version = 'v1' #Git tag\r\n",
    "\r\n",
    "data_url = dvc.api.get_url(\r\n",
    "    path = path,\r\n",
    "    repo = repo,\r\n",
    "    rev = version\r\n",
    ")"
   ],
   "outputs": [],
   "metadata": {}
  },
  {
   "cell_type": "code",
   "execution_count": null,
   "source": [
    "def fetch_data_from_s3(path, repo, version):\r\n",
    "    data = dvc.api.read(\r\n",
    "            path = path,\r\n",
    "            repo = repo,\r\n",
    "            rev = version\r\n",
    "        )\r\n",
    "    return pd.read_csv(io.StringIO(data), sep=',')\r\n",
    "\r\n",
    "\r\n",
    "def fetch_data_from_fs(url):\r\n",
    "    return pd.read_csv(url, sep=',')\r\n",
    "\r\n",
    "\r\n",
    "def fetch_data(url):\r\n",
    "    storage_type = url.split(\":\")[0]\r\n",
    "    if storage_type.upper() == \"S3\":\r\n",
    "        data = fetch_data_from_s3(path, repo, version)\r\n",
    "    else:\r\n",
    "        data = fetch_data_from_fs(url)\r\n",
    "        \r\n",
    "    return data"
   ],
   "outputs": [],
   "metadata": {}
  },
  {
   "cell_type": "code",
   "execution_count": 4,
   "source": [
    "backend_uri = os.environ['MLFLOW_TRACKING_URI']\r\n",
    "artifact_uri = os.environ['MLFLOW_ARTIFACT_STORE']\r\n",
    "mlflow.set_tracking_uri(backend_uri)"
   ],
   "outputs": [],
   "metadata": {}
  },
  {
   "cell_type": "code",
   "execution_count": null,
   "source": [
    "housing = fetch_data(data_url)\r\n",
    "housing.head()"
   ],
   "outputs": [],
   "metadata": {}
  },
  {
   "cell_type": "markdown",
   "source": [
    "### Create pipeline"
   ],
   "metadata": {}
  },
  {
   "cell_type": "code",
   "execution_count": 6,
   "source": [
    "targetCol = \"median_house_value\"\r\n",
    "catCols = [\"ocean_proximity\"]\r\n",
    "numCols = [\"housing_median_age\", \"total_rooms\", \"total_bedrooms\", \"population\", \"households\", \"median_income\"]\r\n",
    "\r\n",
    "customColTrans = FunctionTransformer(HouseColumnTransformerFunc, \r\n",
    "                                     kw_args={\"add_bedrooms_per_room\": False})\r\n",
    "\r\n",
    "num_pipeline = Pipeline([\r\n",
    "                    (\"Imputer\", SimpleImputer()),\r\n",
    "                    (\"Scaler\", StandardScaler()),\r\n",
    "                    (\"Transform\", customColTrans)\r\n",
    "                ])\r\n",
    "\r\n",
    "full_pipeline = ColumnTransformer([\r\n",
    "                    (\"Numerical_Pipeline\", num_pipeline, numCols),\r\n",
    "                    (\"OneHot\", OneHotEncoder(), catCols)\r\n",
    "                ])"
   ],
   "outputs": [],
   "metadata": {}
  },
  {
   "cell_type": "markdown",
   "source": [
    "### Data processing"
   ],
   "metadata": {}
  },
  {
   "cell_type": "code",
   "execution_count": 7,
   "source": [
    "x = housing[numCols + catCols]\r\n",
    "y = housing[targetCol]\r\n",
    "\r\n",
    "x_train, x_test, y_train, y_test = train_test_split(x, y, test_size=0.2, random_state=42, shuffle=True)\r\n",
    "x_train = full_pipeline.fit_transform(x_train)\r\n",
    "x_test = full_pipeline.transform(x_test)"
   ],
   "outputs": [],
   "metadata": {}
  },
  {
   "cell_type": "code",
   "execution_count": 8,
   "source": [
    "x_test.shape"
   ],
   "outputs": [
    {
     "output_type": "execute_result",
     "data": {
      "text/plain": [
       "(4128, 10)"
      ]
     },
     "metadata": {},
     "execution_count": 8
    }
   ],
   "metadata": {}
  },
  {
   "cell_type": "markdown",
   "source": [
    "### Build Model"
   ],
   "metadata": {}
  },
  {
   "cell_type": "code",
   "execution_count": 9,
   "source": [
    "model = LinearRegression()\r\n",
    "model.fit(x_train, y_train)\r\n",
    "predictions = model.predict(x_test)\r\n",
    "rmse = np.sqrt(mean_squared_error(y_test, predictions))\r\n",
    "print(rmse)"
   ],
   "outputs": [
    {
     "output_type": "stream",
     "name": "stdout",
     "text": [
      "73202.85375260453\n"
     ]
    }
   ],
   "metadata": {}
  },
  {
   "cell_type": "markdown",
   "source": [
    "### Save the pipeline and the model"
   ],
   "metadata": {}
  },
  {
   "cell_type": "code",
   "execution_count": 10,
   "source": [
    "joblib.dump(full_pipeline, pipeline_path);\r\n",
    "joblib.dump(model, model_path);"
   ],
   "outputs": [],
   "metadata": {}
  },
  {
   "cell_type": "code",
   "execution_count": 12,
   "source": [
    "# Create an `artifacts` dictionary that assigns a unique name to the saved pipeline and the model\r\n",
    "# This dictionary will be passed to `mlflow.pyfunc.save_model` or `mlflow.pyfunc.log_model`, which will \r\n",
    "# copy the model file into the new MLflow Model's directory.\r\n",
    "artifacts = {\r\n",
    "    \"pipeline\": pipeline_path,\r\n",
    "    \"model\": model_path\r\n",
    "}\r\n",
    "\r\n",
    "# Define the model class\r\n",
    "class ModelWrapper(mlflow.pyfunc.PythonModel):\r\n",
    "    def load_context(self, context):\r\n",
    "        self.pipeline = joblib.load(context.artifacts[\"pipeline\"])\r\n",
    "        self.model = joblib.load(context.artifacts[\"model\"])\r\n",
    "\r\n",
    "    def predict(self, context, model_input):\r\n",
    "        model_input.columns = [\"housing_median_age\", \"total_rooms\", \"total_bedrooms\", \r\n",
    "                   \"population\", \"households\", \"median_income\", \"ocean_proximity\"]\r\n",
    "        input_matrix = self.pipeline.transform(model_input)\r\n",
    "        return self.model.predict(input_matrix)"
   ],
   "outputs": [],
   "metadata": {}
  },
  {
   "cell_type": "code",
   "execution_count": 14,
   "source": [
    "experiment = mlflow.get_experiment_by_name(\"custom_housing\")\r\n",
    "if experiment is None:\r\n",
    "    experiment_id = mlflow.create_experiment(\"custom_housing\", artifact_location=artifact_uri)\r\n",
    "    experiment = mlflow.get_experiment(experiment_id)\r\n",
    "\r\n",
    "mlflow.set_experiment(experiment.name)\r\n",
    "\r\n",
    "mlflow_pyfunc_model_path = \"mlflow_custom_housing\"\r\n",
    "with mlflow.start_run():\r\n",
    "    mlflow.log_param('data_url', data_url)\r\n",
    "    mlflow.log_param('data_version', version)\r\n",
    "    mlflow.log_param('input_rows', x_train.shape[0])\r\n",
    "    mlflow.log_param('input_columns', x_train.shape[1])\r\n",
    "    \r\n",
    "    mlflow.log_metric(\"rmse\", rmse)\r\n",
    "    mlflow.pyfunc.log_model(mlflow_pyfunc_model_path, \r\n",
    "                            python_model=ModelWrapper(), \r\n",
    "                            artifacts=artifacts)"
   ],
   "outputs": [
    {
     "output_type": "stream",
     "name": "stderr",
     "text": [
      "2021/07/02 14:44:33 WARNING mlflow.tracking.context.git_context: Failed to import Git (the Git executable is probably not on your PATH), so Git SHA is not available. Error: Failed to initialize: Bad git executable.\n",
      "The git executable must be specified in one of the following ways:\n",
      "    - be included in your $PATH\n",
      "    - be set via $GIT_PYTHON_GIT_EXECUTABLE\n",
      "    - explicitly set via git.refresh()\n",
      "\n",
      "All git commands will error until this is rectified.\n",
      "\n",
      "This initial warning can be silenced or aggravated in the future by setting the\n",
      "$GIT_PYTHON_REFRESH environment variable. Use one of the following values:\n",
      "    - quiet|q|silence|s|none|n|0: for no warning or exception\n",
      "    - warn|w|warning|1: for a printed warning\n",
      "    - error|e|raise|r|2: for a raised exception\n",
      "\n",
      "Example:\n",
      "    export GIT_PYTHON_REFRESH=quiet\n",
      "\n"
     ]
    }
   ],
   "metadata": {}
  },
  {
   "cell_type": "code",
   "execution_count": 14,
   "source": [
    "# Save the MLflow Model\n",
    "# mlflow_pyfunc_model_path = \"mlflow_advanced_workflow\"\n",
    "# mlflow.pyfunc.save_model(\n",
    "#         path=mlflow_pyfunc_model_path, python_model=ModelWrapper(), artifacts=artifacts,\n",
    "#         conda_env=conda_env)"
   ],
   "outputs": [],
   "metadata": {}
  }
 ],
 "metadata": {
  "interpreter": {
   "hash": "d44f142d1d854cf38fbd7787462eb25d71efdc59e9fd4d52059045fe1cb15b63"
  },
  "kernelspec": {
   "display_name": "Python 3",
   "language": "python",
   "name": "python3"
  },
  "language_info": {
   "codemirror_mode": {
    "name": "ipython",
    "version": 3
   },
   "file_extension": ".py",
   "mimetype": "text/x-python",
   "name": "python",
   "nbconvert_exporter": "python",
   "pygments_lexer": "ipython3",
   "version": "3.6.8"
  }
 },
 "nbformat": 4,
 "nbformat_minor": 4
}