{
 "cells": [
  {
   "cell_type": "code",
   "execution_count": 1,
   "metadata": {},
   "outputs": [],
   "source": [
    "import os\n",
    "import io\n",
    "import pandas as pd\n",
    "import numpy as np\n",
    "import joblib\n",
    "from sklearn.metrics import mean_squared_error\n",
    "from sklearn.model_selection import train_test_split\n",
    "from sklearn.preprocessing import StandardScaler, OneHotEncoder, FunctionTransformer\n",
    "from sklearn.impute import SimpleImputer\n",
    "from sklearn.linear_model import LinearRegression\n",
    "from sklearn.pipeline import Pipeline\n",
    "from sklearn.compose import ColumnTransformer\n",
    "import mlflow\n",
    "import dvc.api\n",
    "import warnings\n",
    "\n",
    "from custom_data_transformers.utils import HouseColumnTransformerFunc\n",
    "\n",
    "warnings.filterwarnings(\"ignore\")\n",
    "\n",
    "pipeline_path = \"pipe.pkl\"\n",
    "model_path = \"model.pkl\"\n",
    "\n",
    "path = 'dataset/housing.csv'\n",
    "repo = '../.git'\n",
    "version = 'v1' #Git tag\n",
    "\n",
    "data_url = dvc.api.get_url(\n",
    "    path = path,\n",
    "    repo = repo,\n",
    "    rev = version\n",
    ")"
   ]
  },
  {
   "cell_type": "code",
   "execution_count": null,
   "metadata": {},
   "outputs": [],
   "source": [
    "def fetch_data_from_s3(path, repo, version):\n",
    "    data = dvc.api.read(\n",
    "            path = path,\n",
    "            repo = repo,\n",
    "            rev = version\n",
    "        )\n",
    "    return pd.read_csv(io.StringIO(data), sep=',')\n",
    "\n",
    "\n",
    "def fetch_data_from_fs(url):\n",
    "    return pd.read_csv(url, sep=',')\n",
    "\n",
    "\n",
    "def fetch_data(url):\n",
    "    storage_type = url.split(\":\")[0]\n",
    "    if storage_type.upper() == \"S3\":\n",
    "        data = fetch_data_from_s3(path, repo, version)\n",
    "    else:\n",
    "        data = fetch_data_from_fs(url)\n",
    "        \n",
    "    return data"
   ]
  },
  {
   "cell_type": "code",
   "execution_count": 4,
   "metadata": {},
   "outputs": [],
   "source": [
    "backend_uri = os.environ['MLFLOW_TRACKING_URI']\n",
    "artifact_uri = os.environ['MLFLOW_ARTIFACT_STORE']\n",
    "mlflow.set_tracking_uri(backend_uri)"
   ]
  },
  {
   "cell_type": "code",
   "execution_count": null,
   "metadata": {},
   "outputs": [],
   "source": [
    "housing = fetch_data(data_url)\n",
    "housing.head()"
   ]
  },
  {
   "cell_type": "markdown",
   "metadata": {},
   "source": [
    "### Create pipeline"
   ]
  },
  {
   "cell_type": "code",
   "execution_count": 6,
   "metadata": {},
   "outputs": [],
   "source": [
    "targetCol = \"median_house_value\"\n",
    "catCols = [\"ocean_proximity\"]\n",
    "numCols = [\"housing_median_age\", \"total_rooms\", \"total_bedrooms\", \"population\", \"households\", \"median_income\"]\n",
    "\n",
    "customColTrans = FunctionTransformer(HouseColumnTransformerFunc, \n",
    "                                     kw_args={\"add_bedrooms_per_room\": False})\n",
    "\n",
    "num_pipeline = Pipeline([\n",
    "                    (\"Imputer\", SimpleImputer()),\n",
    "                    (\"Scaler\", StandardScaler()),\n",
    "                    (\"Transform\", customColTrans)\n",
    "                ])\n",
    "\n",
    "full_pipeline = ColumnTransformer([\n",
    "                    (\"Numerical_Pipeline\", num_pipeline, numCols),\n",
    "                    (\"OneHot\", OneHotEncoder(), catCols)\n",
    "                ])"
   ]
  },
  {
   "cell_type": "markdown",
   "metadata": {},
   "source": [
    "### Data processing"
   ]
  },
  {
   "cell_type": "code",
   "execution_count": 7,
   "metadata": {},
   "outputs": [],
   "source": [
    "x = housing[numCols + catCols]\n",
    "y = housing[targetCol]\n",
    "\n",
    "x_train, x_test, y_train, y_test = train_test_split(x, y, test_size=0.2, random_state=42, shuffle=True)\n",
    "x_train = full_pipeline.fit_transform(x_train)\n",
    "x_test = full_pipeline.transform(x_test)"
   ]
  },
  {
   "cell_type": "code",
   "execution_count": 8,
   "metadata": {},
   "outputs": [
    {
     "data": {
      "text/plain": [
       "(4128, 10)"
      ]
     },
     "execution_count": 8,
     "metadata": {},
     "output_type": "execute_result"
    }
   ],
   "source": [
    "x_test.shape"
   ]
  },
  {
   "cell_type": "markdown",
   "metadata": {},
   "source": [
    "### Build Model"
   ]
  },
  {
   "cell_type": "code",
   "execution_count": 9,
   "metadata": {},
   "outputs": [
    {
     "name": "stdout",
     "output_type": "stream",
     "text": [
      "73202.85375260453\n"
     ]
    }
   ],
   "source": [
    "model = LinearRegression()\n",
    "model.fit(x_train, y_train)\n",
    "predictions = model.predict(x_test)\n",
    "rmse = np.sqrt(mean_squared_error(y_test, predictions))\n",
    "print(rmse)"
   ]
  },
  {
   "cell_type": "markdown",
   "metadata": {},
   "source": [
    "### Save the pipeline and the model"
   ]
  },
  {
   "cell_type": "code",
   "execution_count": 10,
   "metadata": {},
   "outputs": [],
   "source": [
    "joblib.dump(full_pipeline, pipeline_path);\n",
    "joblib.dump(model, model_path);"
   ]
  },
  {
   "cell_type": "code",
   "execution_count": 12,
   "metadata": {},
   "outputs": [],
   "source": [
    "# Create an `artifacts` dictionary that assigns a unique name to the saved pipeline and the model\n",
    "# This dictionary will be passed to `mlflow.pyfunc.save_model` or `mlflow.pyfunc.log_model`, which will \n",
    "# copy the model file into the new MLflow Model's directory.\n",
    "artifacts = {\n",
    "    \"pipeline\": pipeline_path,\n",
    "    \"model\": model_path\n",
    "}\n",
    "\n",
    "# Define the model class\n",
    "class ModelWrapper(mlflow.pyfunc.PythonModel):\n",
    "    def load_context(self, context):\n",
    "        self.pipeline = joblib.load(context.artifacts[\"pipeline\"])\n",
    "        self.model = joblib.load(context.artifacts[\"model\"])\n",
    "\n",
    "    def predict(self, context, model_input):\n",
    "        model_input.columns = [\"housing_median_age\", \"total_rooms\", \"total_bedrooms\", \n",
    "                   \"population\", \"households\", \"median_income\", \"ocean_proximity\"]\n",
    "        input_matrix = self.pipeline.transform(model_input)\n",
    "        return self.model.predict(input_matrix)"
   ]
  },
  {
   "cell_type": "code",
   "execution_count": 14,
   "metadata": {},
   "outputs": [
    {
     "name": "stderr",
     "output_type": "stream",
     "text": [
      "2021/07/02 14:44:33 WARNING mlflow.tracking.context.git_context: Failed to import Git (the Git executable is probably not on your PATH), so Git SHA is not available. Error: Failed to initialize: Bad git executable.\n",
      "The git executable must be specified in one of the following ways:\n",
      "    - be included in your $PATH\n",
      "    - be set via $GIT_PYTHON_GIT_EXECUTABLE\n",
      "    - explicitly set via git.refresh()\n",
      "\n",
      "All git commands will error until this is rectified.\n",
      "\n",
      "This initial warning can be silenced or aggravated in the future by setting the\n",
      "$GIT_PYTHON_REFRESH environment variable. Use one of the following values:\n",
      "    - quiet|q|silence|s|none|n|0: for no warning or exception\n",
      "    - warn|w|warning|1: for a printed warning\n",
      "    - error|e|raise|r|2: for a raised exception\n",
      "\n",
      "Example:\n",
      "    export GIT_PYTHON_REFRESH=quiet\n",
      "\n"
     ]
    }
   ],
   "source": [
    "experiment = mlflow.get_experiment_by_name(\"advanced_pipeline\")\n",
    "if experiment is None:\n",
    "    experiment_id = mlflow.create_experiment(\"advanced_pipeline\", artifact_location=artifact_uri)\n",
    "    experiment = mlflow.get_experiment(experiment_id)\n",
    "\n",
    "mlflow.set_experiment(experiment.name)\n",
    "\n",
    "mlflow_pyfunc_model_path = \"mlflow_advanced_pipeline\"\n",
    "with mlflow.start_run():\n",
    "    mlflow.log_param('data_url', data_url)\n",
    "    mlflow.log_param('data_version', version)\n",
    "    mlflow.log_param('input_rows', x_train.shape[0])\n",
    "    mlflow.log_param('input_columns', x_train.shape[1])\n",
    "    \n",
    "    mlflow.log_metric(\"rmse\", rmse)\n",
    "    mlflow.pyfunc.log_model(mlflow_pyfunc_model_path, \n",
    "                            python_model=ModelWrapper(), \n",
    "                            artifacts=artifacts)"
   ]
  },
  {
   "cell_type": "code",
   "execution_count": 14,
   "metadata": {},
   "outputs": [],
   "source": [
    "# Save the MLflow Model\n",
    "# mlflow_pyfunc_model_path = \"mlflow_advanced_workflow\"\n",
    "# mlflow.pyfunc.save_model(\n",
    "#         path=mlflow_pyfunc_model_path, python_model=ModelWrapper(), artifacts=artifacts,\n",
    "#         conda_env=conda_env)"
   ]
  }
 ],
 "metadata": {
  "interpreter": {
   "hash": "d44f142d1d854cf38fbd7787462eb25d71efdc59e9fd4d52059045fe1cb15b63"
  },
  "kernelspec": {
   "display_name": "Python 3",
   "language": "python",
   "name": "python3"
  },
  "language_info": {
   "codemirror_mode": {
    "name": "ipython",
    "version": 3
   },
   "file_extension": ".py",
   "mimetype": "text/x-python",
   "name": "python",
   "nbconvert_exporter": "python",
   "pygments_lexer": "ipython3",
   "version": "3.6.8"
  }
 },
 "nbformat": 4,
 "nbformat_minor": 4
}